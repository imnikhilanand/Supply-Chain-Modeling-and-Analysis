{
 "cells": [
  {
   "cell_type": "markdown",
   "id": "fc74239e",
   "metadata": {},
   "source": [
    "# Hypothesis Testing"
   ]
  },
  {
   "cell_type": "markdown",
   "id": "930b0d81",
   "metadata": {},
   "source": [
    "### Importing the libraries and dataset"
   ]
  },
  {
   "cell_type": "code",
   "execution_count": 9,
   "id": "dbf40ec6",
   "metadata": {},
   "outputs": [],
   "source": [
    "# importing the libraries and the dataset\n",
    "import pandas as pd\n",
    "import numpy as np\n",
    "import matplotlib.pyplot as plt\n",
    "import os\n",
    "import seaborn as sns\n",
    "import plotly.express as px\n",
    "from matplotlib import pyplot as plt\n",
    "from mpl_toolkits.mplot3d import Axes3D\n",
    "from matplotlib.colors import ListedColormap\n",
    "from sklearn.cluster import KMeans\n",
    "from scipy import stats\n",
    "sns.set_palette(\"Blues\")"
   ]
  },
  {
   "cell_type": "code",
   "execution_count": 2,
   "id": "575aefdf",
   "metadata": {},
   "outputs": [
    {
     "name": "stdout",
     "output_type": "stream",
     "text": [
      "D:\\Classes\\Capstone Project\\Supply-Chain-Modeling-and-Analysis\\src\\Hypothesis Testing\n"
     ]
    }
   ],
   "source": [
    "# checking the current working directory\n",
    "current_directory = os.getcwd()\n",
    "print(current_directory)\n",
    "two_directories_back = os.path.abspath(os.path.join(current_directory, \"../..\"))"
   ]
  },
  {
   "cell_type": "code",
   "execution_count": 3,
   "id": "75142934",
   "metadata": {},
   "outputs": [
    {
     "name": "stdout",
     "output_type": "stream",
     "text": [
      "D:\\Classes\\Capstone Project\\Supply-Chain-Modeling-and-Analysis\n"
     ]
    }
   ],
   "source": [
    "# changing the working directory\n",
    "os.chdir(two_directories_back)\n",
    "current_directory = os.getcwd()\n",
    "print(current_directory)"
   ]
  },
  {
   "cell_type": "code",
   "execution_count": 4,
   "id": "a706421d",
   "metadata": {},
   "outputs": [],
   "source": [
    "# reading the dataset\n",
    "data = pd.read_csv(\"data/DataCoSupplyChainDataset.csv\", encoding='latin-1')"
   ]
  },
  {
   "cell_type": "markdown",
   "id": "38265fbd",
   "metadata": {},
   "source": [
    "### Functions for experiments"
   ]
  },
  {
   "cell_type": "code",
   "execution_count": 10,
   "id": "9e3f7edb",
   "metadata": {},
   "outputs": [],
   "source": [
    "def t_test(group1, gorup2):\n",
    "    t_statistic, p_value = stats.ttest_ind(group1, group2)\n",
    "    return t_statistic, p_value"
   ]
  },
  {
   "cell_type": "code",
   "execution_count": null,
   "id": "5690bd8a",
   "metadata": {},
   "outputs": [],
   "source": []
  },
  {
   "cell_type": "code",
   "execution_count": null,
   "id": "68103862",
   "metadata": {},
   "outputs": [],
   "source": []
  },
  {
   "cell_type": "code",
   "execution_count": null,
   "id": "0bae3a0c",
   "metadata": {},
   "outputs": [],
   "source": []
  },
  {
   "cell_type": "markdown",
   "id": "3bf40e81",
   "metadata": {},
   "source": [
    "### Hypothesis 1: Impact of delivery time on order profitability"
   ]
  },
  {
   "cell_type": "code",
   "execution_count": null,
   "id": "37330e23",
   "metadata": {},
   "outputs": [],
   "source": []
  },
  {
   "cell_type": "markdown",
   "id": "7335ad29",
   "metadata": {},
   "source": [
    "### Hypothesis 2: Relationship between sales per customer and delivery status"
   ]
  },
  {
   "cell_type": "code",
   "execution_count": null,
   "id": "78949071",
   "metadata": {},
   "outputs": [],
   "source": []
  },
  {
   "cell_type": "markdown",
   "id": "a2693e52",
   "metadata": {},
   "source": [
    "### Hypothesis 3: Impact of late delivery risk on order profit"
   ]
  },
  {
   "cell_type": "code",
   "execution_count": null,
   "id": "041c5c7c",
   "metadata": {},
   "outputs": [],
   "source": []
  },
  {
   "cell_type": "markdown",
   "id": "7bdc5cd1",
   "metadata": {},
   "source": [
    "### Hypothesis 4: Relationship between product price and sales"
   ]
  },
  {
   "cell_type": "code",
   "execution_count": null,
   "id": "1f024879",
   "metadata": {},
   "outputs": [],
   "source": []
  },
  {
   "cell_type": "markdown",
   "id": "286b0080",
   "metadata": {},
   "source": [
    "### Hypothesos 5: Impact of shipping mode on order profitability"
   ]
  },
  {
   "cell_type": "code",
   "execution_count": null,
   "id": "c8dd8bcc",
   "metadata": {},
   "outputs": [],
   "source": []
  }
 ],
 "metadata": {
  "kernelspec": {
   "display_name": "Python 3 (ipykernel)",
   "language": "python",
   "name": "python3"
  },
  "language_info": {
   "codemirror_mode": {
    "name": "ipython",
    "version": 3
   },
   "file_extension": ".py",
   "mimetype": "text/x-python",
   "name": "python",
   "nbconvert_exporter": "python",
   "pygments_lexer": "ipython3",
   "version": "3.8.15"
  }
 },
 "nbformat": 4,
 "nbformat_minor": 5
}
