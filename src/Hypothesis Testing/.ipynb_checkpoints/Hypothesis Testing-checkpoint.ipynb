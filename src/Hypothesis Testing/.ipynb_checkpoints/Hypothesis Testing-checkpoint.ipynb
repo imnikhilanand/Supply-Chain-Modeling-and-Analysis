{
 "cells": [
  {
   "cell_type": "markdown",
   "id": "658775f3",
   "metadata": {},
   "source": [
    "# Hypothesis Testing"
   ]
  },
  {
   "cell_type": "markdown",
   "id": "5bcc3d4c",
   "metadata": {},
   "source": [
    "### Importing the libraries and dataset"
   ]
  },
  {
   "cell_type": "code",
   "execution_count": 1,
   "id": "04fdbaf2",
   "metadata": {},
   "outputs": [],
   "source": [
    "# importing the libraries and the dataset\n",
    "import pandas as pd\n",
    "import numpy as np\n",
    "import matplotlib.pyplot as plt\n",
    "import os\n",
    "import seaborn as sns\n",
    "import plotly.express as px\n",
    "from matplotlib import pyplot as plt\n",
    "from mpl_toolkits.mplot3d import Axes3D\n",
    "from matplotlib.colors import ListedColormap\n",
    "from sklearn.cluster import KMeans\n",
    "from scipy import stats\n",
    "sns.set_palette(\"Blues\")"
   ]
  },
  {
   "cell_type": "code",
   "execution_count": 2,
   "id": "16cbbce5",
   "metadata": {},
   "outputs": [
    {
     "name": "stdout",
     "output_type": "stream",
     "text": [
      "D:\\Classes\\Capstone Project\\Supply-Chain-Modeling-and-Analysis\\src\\Hypothesis Testing\n"
     ]
    }
   ],
   "source": [
    "# checking the current working directory\n",
    "current_directory = os.getcwd()\n",
    "print(current_directory)\n",
    "two_directories_back = os.path.abspath(os.path.join(current_directory, \"../..\"))"
   ]
  },
  {
   "cell_type": "code",
   "execution_count": 3,
   "id": "fa4cdc40",
   "metadata": {},
   "outputs": [
    {
     "name": "stdout",
     "output_type": "stream",
     "text": [
      "D:\\Classes\\Capstone Project\\Supply-Chain-Modeling-and-Analysis\n"
     ]
    }
   ],
   "source": [
    "# changing the working directory\n",
    "os.chdir(two_directories_back)\n",
    "current_directory = os.getcwd()\n",
    "print(current_directory)"
   ]
  },
  {
   "cell_type": "code",
   "execution_count": 4,
   "id": "cfa02396",
   "metadata": {},
   "outputs": [],
   "source": [
    "# reading the dataset\n",
    "data = pd.read_csv(\"data/DataCoSupplyChainDataset.csv\", encoding='latin-1')"
   ]
  },
  {
   "cell_type": "markdown",
   "id": "4e0ff4ff",
   "metadata": {},
   "source": [
    "### Functions for experiments"
   ]
  },
  {
   "cell_type": "markdown",
   "id": "77bcac8c",
   "metadata": {},
   "source": [
    "#### Independent two-way t-test"
   ]
  },
  {
   "cell_type": "code",
   "execution_count": 5,
   "id": "7814e806",
   "metadata": {},
   "outputs": [],
   "source": [
    "# return t-statistics and p-values\n",
    "def indedpend_t_test(group1, group2):\n",
    "    t_statistic, p_value = stats.ttest_ind(group1, group2)\n",
    "    return t_statistic, p_value"
   ]
  },
  {
   "cell_type": "markdown",
   "id": "25bcd498",
   "metadata": {},
   "source": [
    "#### One-way ANOVA"
   ]
  },
  {
   "cell_type": "code",
   "execution_count": 6,
   "id": "b860b33c",
   "metadata": {},
   "outputs": [],
   "source": [
    "# return t-statistics and p-values\n",
    "def one_way_anova(*args):\n",
    "    f_statistic, p_value = stats.f_oneway(*args)\n",
    "    return f_statistic, p_value"
   ]
  },
  {
   "cell_type": "markdown",
   "id": "76997da3",
   "metadata": {},
   "source": [
    "#### Perason Correlation test"
   ]
  },
  {
   "cell_type": "code",
   "execution_count": 7,
   "id": "063008b4",
   "metadata": {},
   "outputs": [],
   "source": [
    "def perason_correlation_test(group1, group2):\n",
    "    f_statistic, p_value = stats.pearsonr(group1, group2)\n",
    "    return f_statistic, p_value"
   ]
  },
  {
   "cell_type": "markdown",
   "id": "2361fda7",
   "metadata": {},
   "source": [
    "### Hypothesis 1: Impact of delivery time on order profitability"
   ]
  },
  {
   "cell_type": "markdown",
   "id": "ab86b240",
   "metadata": {},
   "source": [
    "<b>Null Hypothesis:</b> There is no difference on profitability if the product arrived on time or not. <br>\n",
    "<b>Alternative Hypothesis:</b> There is a difference on profitability if the product arrived on time or not."
   ]
  },
  {
   "cell_type": "code",
   "execution_count": 8,
   "id": "c848ac3b",
   "metadata": {},
   "outputs": [],
   "source": [
    "# difference between the scheduled shipment time and real shipment time\n",
    "data[\"delivery_time_difference\"] = data[\"Days for shipping (real)\"] - data[\"Days for shipment (scheduled)\"]"
   ]
  },
  {
   "cell_type": "code",
   "execution_count": 9,
   "id": "6414ebcb",
   "metadata": {},
   "outputs": [],
   "source": [
    "# assigning a flag to categorize if the parcel is delayed or not\n",
    "data[\"flag_delay\"] = data[\"delivery_time_difference\"].apply(lambda x: 1 if x<0 else 0)"
   ]
  },
  {
   "cell_type": "code",
   "execution_count": 10,
   "id": "22d4abdc",
   "metadata": {},
   "outputs": [],
   "source": [
    "# separating the two groups and extracting only the profits\n",
    "data_delayed = data.query(\"flag_delay==0\")[\"Order Profit Per Order\"]\n",
    "data_not_delayed = data.query(\"flag_delay==1\")[\"Order Profit Per Order\"]"
   ]
  },
  {
   "cell_type": "code",
   "execution_count": 11,
   "id": "a5328de3",
   "metadata": {},
   "outputs": [
    {
     "name": "stdout",
     "output_type": "stream",
     "text": [
      "t-statistics:  -1.1313151667159131\n",
      "p-value:  0.2579239658902995\n"
     ]
    }
   ],
   "source": [
    "# calling the two-way independent t-test functions\n",
    "t_stats, p_value = indedpend_t_test(data_delayed, data_not_delayed)\n",
    "print(\"t-statistics: \", t_stats)\n",
    "print(\"p-value: \", p_value)"
   ]
  },
  {
   "cell_type": "code",
   "execution_count": 29,
   "id": "2dc95308",
   "metadata": {},
   "outputs": [
    {
     "data": {
      "image/png": "[encoded data removed]",
      "text/plain": [
       "<Figure size 640x480 with 1 Axes>"
      ]
     },
     "metadata": {},
     "output_type": "display_data"
    }
   ],
   "source": [
    "# plotting the two distributions\n",
    "plt.hist(data_not_delayed, bins=150, color='blue',alpha=0.5)\n",
    "plt.hist(data_delayed, bins=150, color='red',alpha=0.5)\n",
    "plt.xlabel('Values')\n",
    "plt.ylabel('Frequency')\n",
    "plt.title('Histogram')\n",
    "plt.show()"
   ]
  },
  {
   "cell_type": "markdown",
   "id": "6d53eda9",
   "metadata": {},
   "source": [
    "<b>Observation:</b> Since the p-value is not less that 0.05, at 0.05 level of significance we failed to reject the null hypothesis."
   ]
  },
  {
   "cell_type": "markdown",
   "id": "1ba3a539",
   "metadata": {},
   "source": [
    "### Hypothesis 2: Relationship between sales per customer and delivery status"
   ]
  },
  {
   "cell_type": "markdown",
   "id": "56674f90",
   "metadata": {},
   "source": [
    "<b>Null Hypothesis:</b> There is no difference in sales per customer on based on delivery status.<br>\n",
    "<b>Alternative Hypothesis:</b> There is a difference in sales per customer on based on delivery status. "
   ]
  },
  {
   "cell_type": "code",
   "execution_count": 33,
   "id": "0f6b5d4a",
   "metadata": {},
   "outputs": [],
   "source": [
    "# creating different groups\n",
    "advanced_shipping = data.query(\"`Delivery Status` == 'Advance shipping'\")[\"Sales per customer\"]\n",
    "late_delivery = data.query(\"`Delivery Status` == 'Late delivery'\")[\"Sales per customer\"]\n",
    "shipping_on_time = data.query(\"`Delivery Status` == 'Shipping on time'\")[\"Sales per customer\"]\n",
    "shipping_canceled = data.query(\"`Delivery Status` == 'Shipping canceled'\")[\"Sales per customer\"]"
   ]
  },
  {
   "cell_type": "code",
   "execution_count": 36,
   "id": "52fdc419",
   "metadata": {},
   "outputs": [
    {
     "name": "stdout",
     "output_type": "stream",
     "text": [
      "t-statistics:  1.6854814873252777\n",
      "p-value:  0.1677144228848012\n"
     ]
    }
   ],
   "source": [
    "# calling one-way ANOVA test to see the difference between any groups\n",
    "t_stats, p_value = one_way_anova(advanced_shipping, late_delivery, shipping_on_time, shipping_canceled)\n",
    "print(\"t-statistics: \", t_stats)\n",
    "print(\"p-value: \", p_value)"
   ]
  },
  {
   "cell_type": "markdown",
   "id": "d5e29e44",
   "metadata": {},
   "source": [
    "<b>Observation:</b> Since the p-value is not less that 0.05, at 0.05 level of significance we failed to reject the null hypothesis."
   ]
  },
  {
   "cell_type": "markdown",
   "id": "25e3d626",
   "metadata": {},
   "source": [
    "### Hypothesis 3: Impact of late delivery risk on order profit"
   ]
  },
  {
   "cell_type": "code",
   "execution_count": 50,
   "id": "08e18878",
   "metadata": {},
   "outputs": [],
   "source": [
    "# creating different groups for t-test\n",
    "late_delivery = data.query(\"Late_delivery_risk == 1\")[\"Order Profit Per Order\"]\n",
    "ontime_delivery = data.query(\"Late_delivery_risk == 0\")[\"Order Profit Per Order\"]"
   ]
  },
  {
   "cell_type": "code",
   "execution_count": 40,
   "id": "c5a0dd14",
   "metadata": {},
   "outputs": [
    {
     "name": "stdout",
     "output_type": "stream",
     "text": [
      "t-statistics:  -1.5835107341059376\n",
      "p-value:  0.11330685383692102\n"
     ]
    }
   ],
   "source": [
    "# calling independent t-test to see the difference between any groups\n",
    "t_stats, p_value = indedpend_t_test(late_delivery, ontime_delivery)\n",
    "print(\"t-statistics: \", t_stats)\n",
    "print(\"p-value: \", p_value)"
   ]
  },
  {
   "cell_type": "markdown",
   "id": "1ea9d1b4",
   "metadata": {},
   "source": [
    "<b>Observation:</b> Since the p-value is not less that 0.05, at 0.05 level of significance we failed to reject the null hypothesis."
   ]
  },
  {
   "cell_type": "markdown",
   "id": "c2b73e25",
   "metadata": {},
   "source": [
    "### Hypothesis 4: Relationship between product price and sales"
   ]
  },
  {
   "cell_type": "code",
   "execution_count": 45,
   "id": "e4a9c672",
   "metadata": {},
   "outputs": [
    {
     "name": "stdout",
     "output_type": "stream",
     "text": [
      "t-statistics:  0.7817814277171907\n",
      "p-value:  0.0\n"
     ]
    }
   ],
   "source": [
    "# calling independent t-test to see the difference between any groups\n",
    "t_stats, p_value = perason_correlation_test(data['Product Price'].values, data['Sales per customer'].values)\n",
    "print(\"t-statistics: \", t_stats)\n",
    "print(\"p-value: \", p_value)"
   ]
  },
  {
   "cell_type": "markdown",
   "id": "8183a20d",
   "metadata": {},
   "source": [
    "<b>Observation:</b> Since the p-value is less that 0.05, at 0.05 level of significance we reject the null hypothesis."
   ]
  },
  {
   "cell_type": "markdown",
   "id": "a6a0c3ed",
   "metadata": {},
   "source": [
    "### Hypothesis 5: Impact of shipping mode on order profitability"
   ]
  },
  {
   "cell_type": "code",
   "execution_count": 51,
   "id": "1c640a44",
   "metadata": {},
   "outputs": [],
   "source": [
    "# splitting the dataset into different groups\n",
    "standard_class = data.query('`Shipping Mode` == \"Standard Class\"')['Order Profit Per Order']\n",
    "first_class = data.query('`Shipping Mode` == \"First Class\"')['Order Profit Per Order']\n",
    "second_class = data.query('`Shipping Mode` == \"Second Class\"')['Order Profit Per Order']\n",
    "same_day = data.query('`Shipping Mode` == \"Same Day\"')['Order Profit Per Order']"
   ]
  },
  {
   "cell_type": "code",
   "execution_count": 52,
   "id": "ff50076c",
   "metadata": {},
   "outputs": [
    {
     "name": "stdout",
     "output_type": "stream",
     "text": [
      "t-statistics:  1.9791817108864243\n",
      "p-value:  0.11469269801389084\n"
     ]
    }
   ],
   "source": [
    "# calling one-way ANOVA test to see the difference between any groups\n",
    "t_stats, p_value = one_way_anova(standard_class, first_class, second_class, same_day)\n",
    "print(\"t-statistics: \", t_stats)\n",
    "print(\"p-value: \", p_value)"
   ]
  },
  {
   "cell_type": "markdown",
   "id": "33ae7a94",
   "metadata": {},
   "source": [
    "<b>Observation:</b> Since the p-value is not less that 0.05, at 0.05 level of significance we failed to reject the null hypothesis."
   ]
  }
 ],
 "metadata": {
  "kernelspec": {
   "display_name": "Python 3 (ipykernel)",
   "language": "python",
   "name": "python3"
  },
  "language_info": {
   "codemirror_mode": {
    "name": "ipython",
    "version": 3
   },
   "file_extension": ".py",
   "mimetype": "text/x-python",
   "name": "python",
   "nbconvert_exporter": "python",
   "pygments_lexer": "ipython3",
   "version": "3.8.15"
  }
 },
 "nbformat": 4,
 "nbformat_minor": 5
}
