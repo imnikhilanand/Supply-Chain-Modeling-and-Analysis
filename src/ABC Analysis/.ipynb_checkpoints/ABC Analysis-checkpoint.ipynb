{
 "cells": [
  {
   "cell_type": "markdown",
   "id": "f0eef6f7",
   "metadata": {},
   "source": [
    "# ABC Analysis"
   ]
  },
  {
   "cell_type": "code",
   "execution_count": 1,
   "id": "2353835c",
   "metadata": {},
   "outputs": [],
   "source": [
    "# importing the libraries and the dataset\n",
    "import pandas as pd\n",
    "import numpy as np\n",
    "import matplotlib.pyplot as plt\n",
    "import os\n",
    "import seaborn as sns\n",
    "import plotly.express as px\n",
    "from matplotlib import pyplot as plt\n",
    "from mpl_toolkits.mplot3d import Axes3D\n",
    "from matplotlib.colors import ListedColormap\n",
    "from sklearn.cluster import KMeans\n",
    "sns.set_palette(\"Blues\")"
   ]
  },
  {
   "cell_type": "code",
   "execution_count": 2,
   "id": "8a5d7cdf",
   "metadata": {},
   "outputs": [
    {
     "name": "stdout",
     "output_type": "stream",
     "text": [
      "D:\\Classes\\Capstone Project\\Supply-Chain-Modeling-and-Analysis\\src\\ABC Analysis\n"
     ]
    }
   ],
   "source": [
    "# checking the current working directory\n",
    "current_directory = os.getcwd()\n",
    "print(current_directory)\n",
    "two_directories_back = os.path.abspath(os.path.join(current_directory, \"../..\"))"
   ]
  },
  {
   "cell_type": "code",
   "execution_count": 3,
   "id": "ee1b1890",
   "metadata": {},
   "outputs": [
    {
     "name": "stdout",
     "output_type": "stream",
     "text": [
      "D:\\Classes\\Capstone Project\\Supply-Chain-Modeling-and-Analysis\n"
     ]
    }
   ],
   "source": [
    "# changing the working directory\n",
    "os.chdir(two_directories_back)\n",
    "current_directory = os.getcwd()\n",
    "print(current_directory)"
   ]
  },
  {
   "cell_type": "code",
   "execution_count": 4,
   "id": "64be5a52",
   "metadata": {},
   "outputs": [],
   "source": [
    "# reading the dataset\n",
    "data = pd.read_csv(\"data/DataCoSupplyChainDataset.csv\", encoding='latin-1')"
   ]
  },
  {
   "cell_type": "code",
   "execution_count": 5,
   "id": "d6eef3e9",
   "metadata": {},
   "outputs": [],
   "source": [
    "# creating the dataset for ABC analysis\n",
    "ABC_data = data[['Benefit per order', \n",
    "                 'Product Category Id', \n",
    "                 'Product Name']]"
   ]
  },
  {
   "cell_type": "code",
   "execution_count": 6,
   "id": "ff5e66db",
   "metadata": {},
   "outputs": [],
   "source": [
    "# performing aggregation to get the most profitable products\n",
    "ABC_data_agg = ABC_data.groupby([\"Product Category Id\"]).agg(Products=(\"Product Name\", ','.join),\n",
    "                                                             Revenue=(\"Benefit per order\",\"sum\"))"
   ]
  },
  {
   "cell_type": "code",
   "execution_count": 7,
   "id": "505c9b77",
   "metadata": {},
   "outputs": [],
   "source": [
    "# getting a total sales as column\n",
    "ABC_data_agg[\"Total_Sales\"] = sum(ABC_data_agg.Revenue)\n",
    "ABC_data_agg['Percentage'] = ABC_data_agg[\"Revenue\"]/ABC_data_agg[\"Total_Sales\"]\n",
    "ABC_data_agg = ABC_data_agg.sort_values(\"Percentage\", ascending=False)"
   ]
  },
  {
   "cell_type": "code",
   "execution_count": 8,
   "id": "313b6057",
   "metadata": {},
   "outputs": [
    {
     "data": {
      "text/html": [
       "<div>\n",
       "<style scoped>\n",
       "    .dataframe tbody tr th:only-of-type {\n",
       "        vertical-align: middle;\n",
       "    }\n",
       "\n",
       "    .dataframe tbody tr th {\n",
       "        vertical-align: top;\n",
       "    }\n",
       "\n",
       "    .dataframe thead th {\n",
       "        text-align: right;\n",
       "    }\n",
       "</style>\n",
       "<table border=\"1\" class=\"dataframe\">\n",
       "  <thead>\n",
       "    <tr style=\"text-align: right;\">\n",
       "      <th></th>\n",
       "      <th>Products</th>\n",
       "      <th>Revenue</th>\n",
       "      <th>Total_Sales</th>\n",
       "      <th>Percentage</th>\n",
       "      <th>cumm_sum</th>\n",
       "    </tr>\n",
       "    <tr>\n",
       "      <th>Product Category Id</th>\n",
       "      <th></th>\n",
       "      <th></th>\n",
       "      <th></th>\n",
       "      <th></th>\n",
       "      <th></th>\n",
       "    </tr>\n",
       "  </thead>\n",
       "  <tbody>\n",
       "    <tr>\n",
       "      <th>45</th>\n",
       "      <td>Field &amp; Stream Sportsman 16 Gun Fire Safe,Fiel...</td>\n",
       "      <td>756220.767190</td>\n",
       "      <td>3.966903e+06</td>\n",
       "      <td>0.190633</td>\n",
       "      <td>0.190633</td>\n",
       "    </tr>\n",
       "    <tr>\n",
       "      <th>17</th>\n",
       "      <td>Perfect Fitness Perfect Rip Deck,Perfect Fitne...</td>\n",
       "      <td>494636.919791</td>\n",
       "      <td>3.966903e+06</td>\n",
       "      <td>0.124691</td>\n",
       "      <td>0.315323</td>\n",
       "    </tr>\n",
       "    <tr>\n",
       "      <th>43</th>\n",
       "      <td>Diamondback Women's Serene Classic Comfort Bi,...</td>\n",
       "      <td>427455.568106</td>\n",
       "      <td>3.966903e+06</td>\n",
       "      <td>0.107755</td>\n",
       "      <td>0.423079</td>\n",
       "    </tr>\n",
       "    <tr>\n",
       "      <th>9</th>\n",
       "      <td>Nike Men's Free 5.0+ Running Shoe,Nike Men's F...</td>\n",
       "      <td>383011.098485</td>\n",
       "      <td>3.966903e+06</td>\n",
       "      <td>0.096552</td>\n",
       "      <td>0.519631</td>\n",
       "    </tr>\n",
       "    <tr>\n",
       "      <th>24</th>\n",
       "      <td>Nike Men's Dri-FIT Victory Golf Polo,Nike Men'...</td>\n",
       "      <td>350421.029567</td>\n",
       "      <td>3.966903e+06</td>\n",
       "      <td>0.088336</td>\n",
       "      <td>0.607967</td>\n",
       "    </tr>\n",
       "    <tr>\n",
       "      <th>48</th>\n",
       "      <td>Pelican Sunstream 100 Kayak,Pelican Sunstream ...</td>\n",
       "      <td>325146.960038</td>\n",
       "      <td>3.966903e+06</td>\n",
       "      <td>0.081965</td>\n",
       "      <td>0.689932</td>\n",
       "    </tr>\n",
       "    <tr>\n",
       "      <th>46</th>\n",
       "      <td>O'Brien Men's Neoprene Life Vest,O'Brien Men's...</td>\n",
       "      <td>318451.430554</td>\n",
       "      <td>3.966903e+06</td>\n",
       "      <td>0.080277</td>\n",
       "      <td>0.770209</td>\n",
       "    </tr>\n",
       "    <tr>\n",
       "      <th>18</th>\n",
       "      <td>Nike Men's CJ Elite 2 TD Football Cleat,Nike M...</td>\n",
       "      <td>311902.820214</td>\n",
       "      <td>3.966903e+06</td>\n",
       "      <td>0.078626</td>\n",
       "      <td>0.848835</td>\n",
       "    </tr>\n",
       "    <tr>\n",
       "      <th>29</th>\n",
       "      <td>Under Armour Girls' Toddler Spine Surge Runni,...</td>\n",
       "      <td>129813.960315</td>\n",
       "      <td>3.966903e+06</td>\n",
       "      <td>0.032724</td>\n",
       "      <td>0.881559</td>\n",
       "    </tr>\n",
       "    <tr>\n",
       "      <th>64</th>\n",
       "      <td>Dell Laptop,Dell Laptop,Dell Laptop,Dell Lapto...</td>\n",
       "      <td>69656.810171</td>\n",
       "      <td>3.966903e+06</td>\n",
       "      <td>0.017559</td>\n",
       "      <td>0.899119</td>\n",
       "    </tr>\n",
       "    <tr>\n",
       "      <th>68</th>\n",
       "      <td>Lawn mower,Lawn mower,Lawn mower,Lawn mower,La...</td>\n",
       "      <td>33443.010106</td>\n",
       "      <td>3.966903e+06</td>\n",
       "      <td>0.008431</td>\n",
       "      <td>0.907549</td>\n",
       "    </tr>\n",
       "    <tr>\n",
       "      <th>62</th>\n",
       "      <td>Web Camera,Web Camera,Web Camera,Web Camera,We...</td>\n",
       "      <td>30289.799946</td>\n",
       "      <td>3.966903e+06</td>\n",
       "      <td>0.007636</td>\n",
       "      <td>0.915185</td>\n",
       "    </tr>\n",
       "    <tr>\n",
       "      <th>37</th>\n",
       "      <td>Bridgestone e6 Straight Distance NFL San Dieg,...</td>\n",
       "      <td>28626.479871</td>\n",
       "      <td>3.966903e+06</td>\n",
       "      <td>0.007216</td>\n",
       "      <td>0.922401</td>\n",
       "    </tr>\n",
       "    <tr>\n",
       "      <th>63</th>\n",
       "      <td>Children's heaters,Children's heaters,Children...</td>\n",
       "      <td>27178.099597</td>\n",
       "      <td>3.966903e+06</td>\n",
       "      <td>0.006851</td>\n",
       "      <td>0.929253</td>\n",
       "    </tr>\n",
       "    <tr>\n",
       "      <th>66</th>\n",
       "      <td>Porcelain crafts,Porcelain crafts,Porcelain cr...</td>\n",
       "      <td>25531.170060</td>\n",
       "      <td>3.966903e+06</td>\n",
       "      <td>0.006436</td>\n",
       "      <td>0.935689</td>\n",
       "    </tr>\n",
       "    <tr>\n",
       "      <th>76</th>\n",
       "      <td>Summer dresses,Summer dresses,Summer dresses,S...</td>\n",
       "      <td>19102.849930</td>\n",
       "      <td>3.966903e+06</td>\n",
       "      <td>0.004816</td>\n",
       "      <td>0.940504</td>\n",
       "    </tr>\n",
       "    <tr>\n",
       "      <th>26</th>\n",
       "      <td>adidas Men's Germany Black Crest Away Tee,Nike...</td>\n",
       "      <td>17288.569973</td>\n",
       "      <td>3.966903e+06</td>\n",
       "      <td>0.004358</td>\n",
       "      <td>0.944862</td>\n",
       "    </tr>\n",
       "    <tr>\n",
       "      <th>40</th>\n",
       "      <td>Team Golf Pittsburgh Steelers Putter Grip,Team...</td>\n",
       "      <td>16643.520074</td>\n",
       "      <td>3.966903e+06</td>\n",
       "      <td>0.004196</td>\n",
       "      <td>0.949058</td>\n",
       "    </tr>\n",
       "    <tr>\n",
       "      <th>71</th>\n",
       "      <td>Rock music,Rock music,Rock music,Rock music,Ro...</td>\n",
       "      <td>14436.319923</td>\n",
       "      <td>3.966903e+06</td>\n",
       "      <td>0.003639</td>\n",
       "      <td>0.952697</td>\n",
       "    </tr>\n",
       "    <tr>\n",
       "      <th>65</th>\n",
       "      <td>Industrial consumer electronics,Industrial con...</td>\n",
       "      <td>13223.399926</td>\n",
       "      <td>3.966903e+06</td>\n",
       "      <td>0.003333</td>\n",
       "      <td>0.956031</td>\n",
       "    </tr>\n",
       "    <tr>\n",
       "      <th>35</th>\n",
       "      <td>TaylorMade 2014 Purelite Stand Bag,TaylorMade ...</td>\n",
       "      <td>12975.490078</td>\n",
       "      <td>3.966903e+06</td>\n",
       "      <td>0.003271</td>\n",
       "      <td>0.959302</td>\n",
       "    </tr>\n",
       "    <tr>\n",
       "      <th>3</th>\n",
       "      <td>adidas Men's F10 Messi TRX FG Soccer Cleat,adi...</td>\n",
       "      <td>12762.130067</td>\n",
       "      <td>3.966903e+06</td>\n",
       "      <td>0.003217</td>\n",
       "      <td>0.962519</td>\n",
       "    </tr>\n",
       "    <tr>\n",
       "      <th>73</th>\n",
       "      <td>Smart watch ,Smart watch ,Smart watch ,Smart w...</td>\n",
       "      <td>12518.610119</td>\n",
       "      <td>3.966903e+06</td>\n",
       "      <td>0.003156</td>\n",
       "      <td>0.965674</td>\n",
       "    </tr>\n",
       "    <tr>\n",
       "      <th>33</th>\n",
       "      <td>LIJA Women's Argyle Golf Polo,LIJA Women's Arg...</td>\n",
       "      <td>12406.070143</td>\n",
       "      <td>3.966903e+06</td>\n",
       "      <td>0.003127</td>\n",
       "      <td>0.968802</td>\n",
       "    </tr>\n",
       "    <tr>\n",
       "      <th>13</th>\n",
       "      <td>Under Armour Men's Compression EV SL Slide,Und...</td>\n",
       "      <td>12264.900047</td>\n",
       "      <td>3.966903e+06</td>\n",
       "      <td>0.003092</td>\n",
       "      <td>0.971894</td>\n",
       "    </tr>\n",
       "    <tr>\n",
       "      <th>69</th>\n",
       "      <td>First aid kit,First aid kit,First aid kit,Firs...</td>\n",
       "      <td>9493.629974</td>\n",
       "      <td>3.966903e+06</td>\n",
       "      <td>0.002393</td>\n",
       "      <td>0.974287</td>\n",
       "    </tr>\n",
       "    <tr>\n",
       "      <th>38</th>\n",
       "      <td>Polar FT4 Heart Rate Monitor,Mio ALPHA Heart R...</td>\n",
       "      <td>9045.839896</td>\n",
       "      <td>3.966903e+06</td>\n",
       "      <td>0.002280</td>\n",
       "      <td>0.976567</td>\n",
       "    </tr>\n",
       "    <tr>\n",
       "      <th>12</th>\n",
       "      <td>Under Armour Women's Micro G Skulpt Running S,...</td>\n",
       "      <td>8641.370006</td>\n",
       "      <td>3.966903e+06</td>\n",
       "      <td>0.002178</td>\n",
       "      <td>0.978746</td>\n",
       "    </tr>\n",
       "    <tr>\n",
       "      <th>36</th>\n",
       "      <td>Glove It Women's Imperial Golf Glove,Glove It ...</td>\n",
       "      <td>8342.670024</td>\n",
       "      <td>3.966903e+06</td>\n",
       "      <td>0.002103</td>\n",
       "      <td>0.980849</td>\n",
       "    </tr>\n",
       "    <tr>\n",
       "      <th>41</th>\n",
       "      <td>Glove It Women's Mod Oval 3-Zip Carry All Gol,...</td>\n",
       "      <td>7915.369985</td>\n",
       "      <td>3.966903e+06</td>\n",
       "      <td>0.001995</td>\n",
       "      <td>0.982844</td>\n",
       "    </tr>\n",
       "    <tr>\n",
       "      <th>67</th>\n",
       "      <td>DVDs ,DVDs ,DVDs ,DVDs ,DVDs ,DVDs ,DVDs ,DVDs...</td>\n",
       "      <td>6655.430088</td>\n",
       "      <td>3.966903e+06</td>\n",
       "      <td>0.001678</td>\n",
       "      <td>0.984522</td>\n",
       "    </tr>\n",
       "    <tr>\n",
       "      <th>44</th>\n",
       "      <td>ENO Atlas Hammock Straps,ENO Atlas Hammock Str...</td>\n",
       "      <td>5979.999945</td>\n",
       "      <td>3.966903e+06</td>\n",
       "      <td>0.001507</td>\n",
       "      <td>0.986029</td>\n",
       "    </tr>\n",
       "    <tr>\n",
       "      <th>6</th>\n",
       "      <td>Nike Men's Comfort 2 Slide,Nike Men's Comfort ...</td>\n",
       "      <td>5747.979996</td>\n",
       "      <td>3.966903e+06</td>\n",
       "      <td>0.001449</td>\n",
       "      <td>0.987478</td>\n",
       "    </tr>\n",
       "    <tr>\n",
       "      <th>30</th>\n",
       "      <td>Merrell Men's All Out Flash Trail Running Sho,...</td>\n",
       "      <td>5517.989977</td>\n",
       "      <td>3.966903e+06</td>\n",
       "      <td>0.001391</td>\n",
       "      <td>0.988869</td>\n",
       "    </tr>\n",
       "    <tr>\n",
       "      <th>7</th>\n",
       "      <td>Nike Dri-FIT Crew Sock 6 Pack,Nike Dri-FIT Cre...</td>\n",
       "      <td>5397.430013</td>\n",
       "      <td>3.966903e+06</td>\n",
       "      <td>0.001361</td>\n",
       "      <td>0.990230</td>\n",
       "    </tr>\n",
       "    <tr>\n",
       "      <th>11</th>\n",
       "      <td>Under Armour Hustle Storm Medium Duffle Bag,Un...</td>\n",
       "      <td>5258.390016</td>\n",
       "      <td>3.966903e+06</td>\n",
       "      <td>0.001326</td>\n",
       "      <td>0.991555</td>\n",
       "    </tr>\n",
       "    <tr>\n",
       "      <th>31</th>\n",
       "      <td>MDGolf Pittsburgh Penguins Putter,MDGolf Pitts...</td>\n",
       "      <td>5028.639929</td>\n",
       "      <td>3.966903e+06</td>\n",
       "      <td>0.001268</td>\n",
       "      <td>0.992823</td>\n",
       "    </tr>\n",
       "    <tr>\n",
       "      <th>5</th>\n",
       "      <td>Under Armour Men's Tech II T-Shirt,Nike Kids' ...</td>\n",
       "      <td>4364.289984</td>\n",
       "      <td>3.966903e+06</td>\n",
       "      <td>0.001100</td>\n",
       "      <td>0.993923</td>\n",
       "    </tr>\n",
       "    <tr>\n",
       "      <th>2</th>\n",
       "      <td>Elevation Training Mask 2.0,Elevation Training...</td>\n",
       "      <td>3901.949953</td>\n",
       "      <td>3.966903e+06</td>\n",
       "      <td>0.000984</td>\n",
       "      <td>0.994907</td>\n",
       "    </tr>\n",
       "    <tr>\n",
       "      <th>72</th>\n",
       "      <td>Adult dog supplies,Adult dog supplies,Adult do...</td>\n",
       "      <td>3589.259959</td>\n",
       "      <td>3.966903e+06</td>\n",
       "      <td>0.000905</td>\n",
       "      <td>0.995812</td>\n",
       "    </tr>\n",
       "    <tr>\n",
       "      <th>32</th>\n",
       "      <td>TaylorMade Women's RBZ SL Rescue,TaylorMade Wo...</td>\n",
       "      <td>3496.309983</td>\n",
       "      <td>3.966903e+06</td>\n",
       "      <td>0.000881</td>\n",
       "      <td>0.996693</td>\n",
       "    </tr>\n",
       "    <tr>\n",
       "      <th>75</th>\n",
       "      <td>Fighting video games,Fighting video games,Figh...</td>\n",
       "      <td>2717.519997</td>\n",
       "      <td>3.966903e+06</td>\n",
       "      <td>0.000685</td>\n",
       "      <td>0.997378</td>\n",
       "    </tr>\n",
       "    <tr>\n",
       "      <th>70</th>\n",
       "      <td>Men's gala suit,Men's gala suit,Men's gala sui...</td>\n",
       "      <td>2006.039969</td>\n",
       "      <td>3.966903e+06</td>\n",
       "      <td>0.000506</td>\n",
       "      <td>0.997884</td>\n",
       "    </tr>\n",
       "    <tr>\n",
       "      <th>4</th>\n",
       "      <td>SOLE E25 Elliptical,Diamondback Boys' Insight ...</td>\n",
       "      <td>1845.670003</td>\n",
       "      <td>3.966903e+06</td>\n",
       "      <td>0.000465</td>\n",
       "      <td>0.998349</td>\n",
       "    </tr>\n",
       "    <tr>\n",
       "      <th>34</th>\n",
       "      <td>Ogio Race Golf Shoes,Ogio Race Golf Shoes,Ogio...</td>\n",
       "      <td>1810.069992</td>\n",
       "      <td>3.966903e+06</td>\n",
       "      <td>0.000456</td>\n",
       "      <td>0.998805</td>\n",
       "    </tr>\n",
       "    <tr>\n",
       "      <th>60</th>\n",
       "      <td>Baby sweater,Baby sweater,Baby sweater,Baby sw...</td>\n",
       "      <td>1525.029992</td>\n",
       "      <td>3.966903e+06</td>\n",
       "      <td>0.000384</td>\n",
       "      <td>0.999190</td>\n",
       "    </tr>\n",
       "    <tr>\n",
       "      <th>74</th>\n",
       "      <td>Toys ,Toys ,Toys ,Toys ,Toys ,Toys ,Toys ,Toys...</td>\n",
       "      <td>900.710000</td>\n",
       "      <td>3.966903e+06</td>\n",
       "      <td>0.000227</td>\n",
       "      <td>0.999417</td>\n",
       "    </tr>\n",
       "    <tr>\n",
       "      <th>59</th>\n",
       "      <td>Sports Books ,Sports Books ,Sports Books ,Spor...</td>\n",
       "      <td>883.010008</td>\n",
       "      <td>3.966903e+06</td>\n",
       "      <td>0.000223</td>\n",
       "      <td>0.999639</td>\n",
       "    </tr>\n",
       "    <tr>\n",
       "      <th>16</th>\n",
       "      <td>Nike Men's Free TR 5.0 TB Training Shoe,Nike M...</td>\n",
       "      <td>714.429980</td>\n",
       "      <td>3.966903e+06</td>\n",
       "      <td>0.000180</td>\n",
       "      <td>0.999819</td>\n",
       "    </tr>\n",
       "    <tr>\n",
       "      <th>61</th>\n",
       "      <td>CDs of rock,CDs of rock,CDs of rock,CDs of roc...</td>\n",
       "      <td>383.850000</td>\n",
       "      <td>3.966903e+06</td>\n",
       "      <td>0.000097</td>\n",
       "      <td>0.999916</td>\n",
       "    </tr>\n",
       "    <tr>\n",
       "      <th>10</th>\n",
       "      <td>GoPro HERO3+ Black Edition Camera,Yakima Doubl...</td>\n",
       "      <td>332.310091</td>\n",
       "      <td>3.966903e+06</td>\n",
       "      <td>0.000084</td>\n",
       "      <td>1.000000</td>\n",
       "    </tr>\n",
       "  </tbody>\n",
       "</table>\n",
       "</div>"
      ],
      "text/plain": [
       "                                                              Products  \\\n",
       "Product Category Id                                                      \n",
       "45                   Field & Stream Sportsman 16 Gun Fire Safe,Fiel...   \n",
       "17                   Perfect Fitness Perfect Rip Deck,Perfect Fitne...   \n",
       "43                   Diamondback Women's Serene Classic Comfort Bi,...   \n",
       "9                    Nike Men's Free 5.0+ Running Shoe,Nike Men's F...   \n",
       "24                   Nike Men's Dri-FIT Victory Golf Polo,Nike Men'...   \n",
       "48                   Pelican Sunstream 100 Kayak,Pelican Sunstream ...   \n",
       "46                   O'Brien Men's Neoprene Life Vest,O'Brien Men's...   \n",
       "18                   Nike Men's CJ Elite 2 TD Football Cleat,Nike M...   \n",
       "29                   Under Armour Girls' Toddler Spine Surge Runni,...   \n",
       "64                   Dell Laptop,Dell Laptop,Dell Laptop,Dell Lapto...   \n",
       "68                   Lawn mower,Lawn mower,Lawn mower,Lawn mower,La...   \n",
       "62                   Web Camera,Web Camera,Web Camera,Web Camera,We...   \n",
       "37                   Bridgestone e6 Straight Distance NFL San Dieg,...   \n",
       "63                   Children's heaters,Children's heaters,Children...   \n",
       "66                   Porcelain crafts,Porcelain crafts,Porcelain cr...   \n",
       "76                   Summer dresses,Summer dresses,Summer dresses,S...   \n",
       "26                   adidas Men's Germany Black Crest Away Tee,Nike...   \n",
       "40                   Team Golf Pittsburgh Steelers Putter Grip,Team...   \n",
       "71                   Rock music,Rock music,Rock music,Rock music,Ro...   \n",
       "65                   Industrial consumer electronics,Industrial con...   \n",
       "35                   TaylorMade 2014 Purelite Stand Bag,TaylorMade ...   \n",
       "3                    adidas Men's F10 Messi TRX FG Soccer Cleat,adi...   \n",
       "73                   Smart watch ,Smart watch ,Smart watch ,Smart w...   \n",
       "33                   LIJA Women's Argyle Golf Polo,LIJA Women's Arg...   \n",
       "13                   Under Armour Men's Compression EV SL Slide,Und...   \n",
       "69                   First aid kit,First aid kit,First aid kit,Firs...   \n",
       "38                   Polar FT4 Heart Rate Monitor,Mio ALPHA Heart R...   \n",
       "12                   Under Armour Women's Micro G Skulpt Running S,...   \n",
       "36                   Glove It Women's Imperial Golf Glove,Glove It ...   \n",
       "41                   Glove It Women's Mod Oval 3-Zip Carry All Gol,...   \n",
       "67                   DVDs ,DVDs ,DVDs ,DVDs ,DVDs ,DVDs ,DVDs ,DVDs...   \n",
       "44                   ENO Atlas Hammock Straps,ENO Atlas Hammock Str...   \n",
       "6                    Nike Men's Comfort 2 Slide,Nike Men's Comfort ...   \n",
       "30                   Merrell Men's All Out Flash Trail Running Sho,...   \n",
       "7                    Nike Dri-FIT Crew Sock 6 Pack,Nike Dri-FIT Cre...   \n",
       "11                   Under Armour Hustle Storm Medium Duffle Bag,Un...   \n",
       "31                   MDGolf Pittsburgh Penguins Putter,MDGolf Pitts...   \n",
       "5                    Under Armour Men's Tech II T-Shirt,Nike Kids' ...   \n",
       "2                    Elevation Training Mask 2.0,Elevation Training...   \n",
       "72                   Adult dog supplies,Adult dog supplies,Adult do...   \n",
       "32                   TaylorMade Women's RBZ SL Rescue,TaylorMade Wo...   \n",
       "75                   Fighting video games,Fighting video games,Figh...   \n",
       "70                   Men's gala suit,Men's gala suit,Men's gala sui...   \n",
       "4                    SOLE E25 Elliptical,Diamondback Boys' Insight ...   \n",
       "34                   Ogio Race Golf Shoes,Ogio Race Golf Shoes,Ogio...   \n",
       "60                   Baby sweater,Baby sweater,Baby sweater,Baby sw...   \n",
       "74                   Toys ,Toys ,Toys ,Toys ,Toys ,Toys ,Toys ,Toys...   \n",
       "59                   Sports Books ,Sports Books ,Sports Books ,Spor...   \n",
       "16                   Nike Men's Free TR 5.0 TB Training Shoe,Nike M...   \n",
       "61                   CDs of rock,CDs of rock,CDs of rock,CDs of roc...   \n",
       "10                   GoPro HERO3+ Black Edition Camera,Yakima Doubl...   \n",
       "\n",
       "                           Revenue   Total_Sales  Percentage  cumm_sum  \n",
       "Product Category Id                                                     \n",
       "45                   756220.767190  3.966903e+06    0.190633  0.190633  \n",
       "17                   494636.919791  3.966903e+06    0.124691  0.315323  \n",
       "43                   427455.568106  3.966903e+06    0.107755  0.423079  \n",
       "9                    383011.098485  3.966903e+06    0.096552  0.519631  \n",
       "24                   350421.029567  3.966903e+06    0.088336  0.607967  \n",
       "48                   325146.960038  3.966903e+06    0.081965  0.689932  \n",
       "46                   318451.430554  3.966903e+06    0.080277  0.770209  \n",
       "18                   311902.820214  3.966903e+06    0.078626  0.848835  \n",
       "29                   129813.960315  3.966903e+06    0.032724  0.881559  \n",
       "64                    69656.810171  3.966903e+06    0.017559  0.899119  \n",
       "68                    33443.010106  3.966903e+06    0.008431  0.907549  \n",
       "62                    30289.799946  3.966903e+06    0.007636  0.915185  \n",
       "37                    28626.479871  3.966903e+06    0.007216  0.922401  \n",
       "63                    27178.099597  3.966903e+06    0.006851  0.929253  \n",
       "66                    25531.170060  3.966903e+06    0.006436  0.935689  \n",
       "76                    19102.849930  3.966903e+06    0.004816  0.940504  \n",
       "26                    17288.569973  3.966903e+06    0.004358  0.944862  \n",
       "40                    16643.520074  3.966903e+06    0.004196  0.949058  \n",
       "71                    14436.319923  3.966903e+06    0.003639  0.952697  \n",
       "65                    13223.399926  3.966903e+06    0.003333  0.956031  \n",
       "35                    12975.490078  3.966903e+06    0.003271  0.959302  \n",
       "3                     12762.130067  3.966903e+06    0.003217  0.962519  \n",
       "73                    12518.610119  3.966903e+06    0.003156  0.965674  \n",
       "33                    12406.070143  3.966903e+06    0.003127  0.968802  \n",
       "13                    12264.900047  3.966903e+06    0.003092  0.971894  \n",
       "69                     9493.629974  3.966903e+06    0.002393  0.974287  \n",
       "38                     9045.839896  3.966903e+06    0.002280  0.976567  \n",
       "12                     8641.370006  3.966903e+06    0.002178  0.978746  \n",
       "36                     8342.670024  3.966903e+06    0.002103  0.980849  \n",
       "41                     7915.369985  3.966903e+06    0.001995  0.982844  \n",
       "67                     6655.430088  3.966903e+06    0.001678  0.984522  \n",
       "44                     5979.999945  3.966903e+06    0.001507  0.986029  \n",
       "6                      5747.979996  3.966903e+06    0.001449  0.987478  \n",
       "30                     5517.989977  3.966903e+06    0.001391  0.988869  \n",
       "7                      5397.430013  3.966903e+06    0.001361  0.990230  \n",
       "11                     5258.390016  3.966903e+06    0.001326  0.991555  \n",
       "31                     5028.639929  3.966903e+06    0.001268  0.992823  \n",
       "5                      4364.289984  3.966903e+06    0.001100  0.993923  \n",
       "2                      3901.949953  3.966903e+06    0.000984  0.994907  \n",
       "72                     3589.259959  3.966903e+06    0.000905  0.995812  \n",
       "32                     3496.309983  3.966903e+06    0.000881  0.996693  \n",
       "75                     2717.519997  3.966903e+06    0.000685  0.997378  \n",
       "70                     2006.039969  3.966903e+06    0.000506  0.997884  \n",
       "4                      1845.670003  3.966903e+06    0.000465  0.998349  \n",
       "34                     1810.069992  3.966903e+06    0.000456  0.998805  \n",
       "60                     1525.029992  3.966903e+06    0.000384  0.999190  \n",
       "74                      900.710000  3.966903e+06    0.000227  0.999417  \n",
       "59                      883.010008  3.966903e+06    0.000223  0.999639  \n",
       "16                      714.429980  3.966903e+06    0.000180  0.999819  \n",
       "61                      383.850000  3.966903e+06    0.000097  0.999916  \n",
       "10                      332.310091  3.966903e+06    0.000084  1.000000  "
      ]
     },
     "execution_count": 8,
     "metadata": {},
     "output_type": "execute_result"
    }
   ],
   "source": [
    "# calculating the cummulative sum of the percentage of each of the products\n",
    "ABC_data_agg[\"cumm_sum\"] = ABC_data_agg[\"Percentage\"].cumsum()\n",
    "ABC_data_agg"
   ]
  },
  {
   "cell_type": "markdown",
   "id": "d0f0ed5a",
   "metadata": {},
   "source": [
    "### Products in Category A"
   ]
  },
  {
   "cell_type": "code",
   "execution_count": 9,
   "id": "7a944289",
   "metadata": {},
   "outputs": [
    {
     "name": "stderr",
     "output_type": "stream",
     "text": [
      "C:\\Users\\imnik\\AppData\\Local\\Temp\\ipykernel_19952\\3497080139.py:3: SettingWithCopyWarning: \n",
      "A value is trying to be set on a copy of a slice from a DataFrame.\n",
      "Try using .loc[row_indexer,col_indexer] = value instead\n",
      "\n",
      "See the caveats in the documentation: https://pandas.pydata.org/pandas-docs/stable/user_guide/indexing.html#returning-a-view-versus-a-copy\n",
      "  category_A[\"flag\"] = 'flag'\n"
     ]
    }
   ],
   "source": [
    "# categorizing proudct which makes 75% of the revenue\n",
    "category_A = ABC_data_agg.query(\"cumm_sum<0.78\")\n",
    "category_A[\"flag\"] = 'flag'"
   ]
  },
  {
   "cell_type": "code",
   "execution_count": 10,
   "id": "b7f3ad69",
   "metadata": {},
   "outputs": [],
   "source": [
    "# products in category A\n",
    "products_category_A =category_A.groupby(\"flag\").agg(Products=(\"Products\",','.join))\n",
    "all_A_products = products_category_A[\"Products\"][0].split(\",\")\n",
    "all_A_products = set(all_A_products)"
   ]
  },
  {
   "cell_type": "code",
   "execution_count": 73,
   "id": "e1acc6e2",
   "metadata": {},
   "outputs": [
    {
     "data": {
      "text/plain": [
       "{\"Diamondback Women's Serene Classic Comfort Bi\",\n",
       " 'Field & Stream Sportsman 16 Gun Fire Safe',\n",
       " \"Nike Men's Dri-FIT Victory Golf Polo\",\n",
       " \"Nike Men's Free 5.0+ Running Shoe\",\n",
       " \"Nike Women's Tempo Shorts\",\n",
       " \"O'Brien Men's Neoprene Life Vest\",\n",
       " 'Pelican Maverick 100X Kayak',\n",
       " 'Pelican Sunstream 100 Kayak',\n",
       " 'Perfect Fitness Perfect Rip Deck',\n",
       " 'Total Gym 1400'}"
      ]
     },
     "execution_count": 73,
     "metadata": {},
     "output_type": "execute_result"
    }
   ],
   "source": [
    "# all the products in category A\n",
    "all_A_products"
   ]
  },
  {
   "cell_type": "markdown",
   "id": "7997cba7",
   "metadata": {},
   "source": [
    "### Products in Category B"
   ]
  },
  {
   "cell_type": "code",
   "execution_count": 11,
   "id": "663f4c0d",
   "metadata": {},
   "outputs": [
    {
     "name": "stderr",
     "output_type": "stream",
     "text": [
      "C:\\Users\\imnik\\AppData\\Local\\Temp\\ipykernel_19952\\3927305159.py:3: SettingWithCopyWarning: \n",
      "A value is trying to be set on a copy of a slice from a DataFrame.\n",
      "Try using .loc[row_indexer,col_indexer] = value instead\n",
      "\n",
      "See the caveats in the documentation: https://pandas.pydata.org/pandas-docs/stable/user_guide/indexing.html#returning-a-view-versus-a-copy\n",
      "  category_B[\"flag\"] = 'flag'\n"
     ]
    }
   ],
   "source": [
    "# categorizing proudct which makes next 20% of the revenue\n",
    "category_B = ABC_data_agg.query(\"cumm_sum>=0.78 and cumm_sum<0.96\")\n",
    "category_B[\"flag\"] = 'flag'"
   ]
  },
  {
   "cell_type": "code",
   "execution_count": 12,
   "id": "24c2d419",
   "metadata": {},
   "outputs": [],
   "source": [
    "# products in category B\n",
    "products_category_B =category_B.groupby(\"flag\").agg(Products=(\"Products\",','.join))\n",
    "all_B_products = products_category_B[\"Products\"][0].split(\",\")\n",
    "all_B_products = set(all_B_products)"
   ]
  },
  {
   "cell_type": "code",
   "execution_count": 13,
   "id": "8f57bdbf",
   "metadata": {},
   "outputs": [
    {
     "data": {
      "text/plain": [
       "{'Bag Boy Beverage Holder',\n",
       " 'Bag Boy M330 Push Cart',\n",
       " 'Bridgestone e6 Straight Distance NFL Carolina',\n",
       " 'Bridgestone e6 Straight Distance NFL San Dieg',\n",
       " 'Bridgestone e6 Straight Distance NFL Tennesse',\n",
       " \"Children's heaters\",\n",
       " 'Clicgear 8.0 Shoe Brush',\n",
       " 'Clicgear Rovic Cooler Bag',\n",
       " \"Columbia Men's PFG Anchor Tough T-Shirt\",\n",
       " 'Dell Laptop',\n",
       " 'Industrial consumer electronics',\n",
       " 'Lawn mower',\n",
       " \"Nike Men's CJ Elite 2 TD Football Cleat\",\n",
       " \"Nike Men's Deutschland Weltmeister Winners Bl\",\n",
       " \"Nike Men's Kobe IX Elite Low Basketball Shoe\",\n",
       " 'Porcelain crafts',\n",
       " 'Rock music',\n",
       " 'Summer dresses',\n",
       " \"TYR Boys' Team Digi Jammer\",\n",
       " 'TaylorMade 2014 Purelite Stand Bag',\n",
       " 'Team Golf New England Patriots Putter Grip',\n",
       " 'Team Golf Pittsburgh Steelers Putter Grip',\n",
       " 'Team Golf San Francisco Giants Putter Grip',\n",
       " 'Team Golf St. Louis Cardinals Putter Grip',\n",
       " 'Team Golf Tennessee Volunteers Putter Grip',\n",
       " 'Team Golf Texas Longhorns Putter Grip',\n",
       " 'Titleist Club Glove Travel Cover',\n",
       " 'Titleist Pro V1 High Numbers Personalized Gol',\n",
       " 'Titleist Pro V1x Golf Balls',\n",
       " 'Titleist Pro V1x High Numbers Golf Balls',\n",
       " 'Titleist Pro V1x High Numbers Personalized Go',\n",
       " 'Titleist Small Wheeled Travel Cover',\n",
       " \"Under Armour Girls' Toddler Spine Surge Runni\",\n",
       " 'Web Camera',\n",
       " \"adidas Men's Germany Black Crest Away Tee\",\n",
       " 'adidas Youth Germany Black/Red Away Match Soc'}"
      ]
     },
     "execution_count": 13,
     "metadata": {},
     "output_type": "execute_result"
    }
   ],
   "source": [
    "# products in B categories\n",
    "all_B_products"
   ]
  },
  {
   "cell_type": "markdown",
   "id": "ccd17805",
   "metadata": {},
   "source": [
    "### Products in Category C"
   ]
  },
  {
   "cell_type": "code",
   "execution_count": 14,
   "id": "e529c35b",
   "metadata": {},
   "outputs": [
    {
     "name": "stderr",
     "output_type": "stream",
     "text": [
      "C:\\Users\\imnik\\AppData\\Local\\Temp\\ipykernel_19952\\1929975351.py:3: SettingWithCopyWarning: \n",
      "A value is trying to be set on a copy of a slice from a DataFrame.\n",
      "Try using .loc[row_indexer,col_indexer] = value instead\n",
      "\n",
      "See the caveats in the documentation: https://pandas.pydata.org/pandas-docs/stable/user_guide/indexing.html#returning-a-view-versus-a-copy\n",
      "  category_C[\"flag\"] = 'flag'\n"
     ]
    }
   ],
   "source": [
    "# categorizing proudct which makes next 5% of the revenue\n",
    "category_C = ABC_data_agg.query(\"cumm_sum>=0.96\")\n",
    "category_C[\"flag\"] = 'flag'"
   ]
  },
  {
   "cell_type": "code",
   "execution_count": 15,
   "id": "ac8ee678",
   "metadata": {},
   "outputs": [],
   "source": [
    "# products in category C\n",
    "products_category_C =category_C.groupby(\"flag\").agg(Products=(\"Products\",','.join))\n",
    "all_C_products = products_category_C[\"Products\"][0].split(\",\")\n",
    "all_C_products = set(all_C_products)"
   ]
  },
  {
   "cell_type": "code",
   "execution_count": 16,
   "id": "a2f07ce1",
   "metadata": {},
   "outputs": [
    {
     "data": {
      "text/plain": [
       "{'Adult dog supplies',\n",
       " 'Baby sweater',\n",
       " 'Bowflex SelectTech 1090 Dumbbells',\n",
       " \"Brooks Women's Ghost 6 Running Shoe\",\n",
       " 'Bushnell Pro X7 Jolt Slope Rangefinder',\n",
       " 'CDs of rock',\n",
       " 'Cleveland Golf Collegiate My Custom Wedge 588',\n",
       " \"Cleveland Golf Women's 588 RTX CB Satin Chrom\",\n",
       " 'DVDs ',\n",
       " \"Diamondback Boys' Insight 24 Performance Hybr\",\n",
       " \"Diamondback Girls' Clarity 24 Hybrid Bike 201\",\n",
       " 'ENO Atlas Hammock Straps',\n",
       " 'Elevation Training Mask 2.0',\n",
       " 'Fighting video games',\n",
       " 'First aid kit',\n",
       " 'Fitbit The One Wireless Activity & Sleep Trac',\n",
       " 'Garmin Approach S3 Golf GPS Watch',\n",
       " 'Garmin Approach S4 Golf GPS Watch',\n",
       " 'Garmin Forerunner 910XT GPS Watch',\n",
       " 'Glove It Imperial Golf Towel',\n",
       " 'Glove It Urban Brick Golf Towel',\n",
       " \"Glove It Women's Imperial Golf Glove\",\n",
       " \"Glove It Women's Mod Oval 3-Zip Carry All Gol\",\n",
       " \"Glove It Women's Mod Oval Golf Glove\",\n",
       " 'GoPro HERO3+ Black Edition Camera',\n",
       " 'GolfBuddy VT3 GPS Watch',\n",
       " \"Hirzl Men's Hybrid Golf Glove\",\n",
       " \"Hirzl Women's Hybrid Golf Glove\",\n",
       " \"Hirzl Women's Soffft Flex Golf Glove\",\n",
       " \"LIJA Women's Argyle Golf Polo\",\n",
       " \"LIJA Women's Button Golf Dress\",\n",
       " \"LIJA Women's Eyelet Sleeveless Golf Polo\",\n",
       " \"LIJA Women's Mid-Length Panel Golf Shorts\",\n",
       " 'MDGolf Pittsburgh Penguins Putter',\n",
       " \"Men's gala suit\",\n",
       " \"Merrell Men's All Out Flash Trail Running Sho\",\n",
       " \"Merrell Women's Grassbow Sport Hiking Shoe\",\n",
       " \"Merrell Women's Grassbow Sport Waterproof Hik\",\n",
       " \"Merrell Women's Siren Mid Waterproof Hiking B\",\n",
       " 'Mio ALPHA Heart Rate Monitor/Sport Watch',\n",
       " 'Nike Dri-FIT Crew Sock 6 Pack',\n",
       " \"Nike Kids' Grade School KD VI Basketball Shoe\",\n",
       " \"Nike Men's Comfort 2 Slide\",\n",
       " \"Nike Men's Fingertrap Max Training Shoe\",\n",
       " \"Nike Men's Free TR 5.0 TB Training Shoe\",\n",
       " \"Nike Women's Free 5.0 TR FIT PRT 4 Training S\",\n",
       " \"Nike Women's Legend V-Neck T-Shirt\",\n",
       " 'Ogio Race Golf Shoes',\n",
       " 'Polar FT4 Heart Rate Monitor',\n",
       " 'Polar Loop Activity Tracker',\n",
       " 'SOLE E25 Elliptical',\n",
       " 'SOLE E35 Elliptical',\n",
       " 'Smart watch ',\n",
       " 'Sports Books ',\n",
       " 'Stiga Master Series ST3100 Competition Indoor',\n",
       " 'TaylorMade White Smoke IN-12 Putter',\n",
       " \"TaylorMade Women's RBZ SL Rescue\",\n",
       " \"The North Face Women's Recon Backpack\",\n",
       " \"Top Flite Women's 2014 XL Hybrid\",\n",
       " 'Toys ',\n",
       " 'Under Armour Hustle Storm Medium Duffle Bag',\n",
       " \"Under Armour Kids' Mercenary Slide\",\n",
       " \"Under Armour Men's Compression EV SL Slide\",\n",
       " \"Under Armour Men's Tech II T-Shirt\",\n",
       " \"Under Armour Women's Ignite PIP VI Slide\",\n",
       " \"Under Armour Women's Ignite Slide\",\n",
       " \"Under Armour Women's Micro G Skulpt Running S\",\n",
       " 'Yakima DoubleDown Ace Hitch Mount 4-Bike Rack',\n",
       " 'adidas Brazuca 2014 Official Match Ball',\n",
       " \"adidas Kids' F5 Messi FG Soccer Cleat\",\n",
       " \"adidas Men's F10 Messi TRX FG Soccer Cleat\",\n",
       " 'insta-bed Neverflat Air Mattress'}"
      ]
     },
     "execution_count": 16,
     "metadata": {},
     "output_type": "execute_result"
    }
   ],
   "source": [
    "# products in C categories\n",
    "all_C_products"
   ]
  },
  {
   "cell_type": "markdown",
   "id": "58b8cdf9",
   "metadata": {},
   "source": [
    "### Visulaizing source and destination from products from category A"
   ]
  },
  {
   "cell_type": "code",
   "execution_count": 113,
   "id": "287d4cfb",
   "metadata": {},
   "outputs": [],
   "source": [
    "# converting to list\n",
    "all_A_products_list = list(all_A_products)\n",
    "# filtering the source and destination of products within these categories\n",
    "products_in_category_A = data.query('`Product Name` in @all_A_products_list')"
   ]
  },
  {
   "cell_type": "code",
   "execution_count": null,
   "id": "528280ad",
   "metadata": {},
   "outputs": [],
   "source": []
  },
  {
   "cell_type": "code",
   "execution_count": 114,
   "id": "93383a03",
   "metadata": {},
   "outputs": [],
   "source": [
    "# segregating origination countries\n",
    "maker_countries = products_in_category_A.groupby(['Order Country','Customer Country']).agg(Total_Sales=('Order Id','count'))\n",
    "maker_countries = maker_countries.sort_values(\"Total_Sales\", ascending=False)"
   ]
  },
  {
   "cell_type": "code",
   "execution_count": 115,
   "id": "1444aafd",
   "metadata": {},
   "outputs": [
    {
     "data": {
      "text/plain": [
       "309"
      ]
     },
     "execution_count": 115,
     "metadata": {},
     "output_type": "execute_result"
    }
   ],
   "source": [
    "len(maker_countries)"
   ]
  },
  {
   "cell_type": "code",
   "execution_count": 116,
   "id": "01db274d",
   "metadata": {},
   "outputs": [],
   "source": [
    "# resetting the index for the dataframe\n",
    "maker_countries = maker_countries.reset_index()"
   ]
  },
  {
   "cell_type": "code",
   "execution_count": 117,
   "id": "902fd64d",
   "metadata": {},
   "outputs": [
    {
     "data": {
      "text/html": [
       "<div>\n",
       "<style scoped>\n",
       "    .dataframe tbody tr th:only-of-type {\n",
       "        vertical-align: middle;\n",
       "    }\n",
       "\n",
       "    .dataframe tbody tr th {\n",
       "        vertical-align: top;\n",
       "    }\n",
       "\n",
       "    .dataframe thead th {\n",
       "        text-align: right;\n",
       "    }\n",
       "</style>\n",
       "<table border=\"1\" class=\"dataframe\">\n",
       "  <thead>\n",
       "    <tr style=\"text-align: right;\">\n",
       "      <th></th>\n",
       "      <th>Order Country</th>\n",
       "      <th>Customer Country</th>\n",
       "      <th>Total_Sales</th>\n",
       "    </tr>\n",
       "  </thead>\n",
       "  <tbody>\n",
       "    <tr>\n",
       "      <th>0</th>\n",
       "      <td>Estados Unidos</td>\n",
       "      <td>EE. UU.</td>\n",
       "      <td>11045</td>\n",
       "    </tr>\n",
       "    <tr>\n",
       "      <th>1</th>\n",
       "      <td>Estados Unidos</td>\n",
       "      <td>Puerto Rico</td>\n",
       "      <td>6805</td>\n",
       "    </tr>\n",
       "    <tr>\n",
       "      <th>2</th>\n",
       "      <td>México</td>\n",
       "      <td>EE. UU.</td>\n",
       "      <td>5843</td>\n",
       "    </tr>\n",
       "    <tr>\n",
       "      <th>3</th>\n",
       "      <td>Francia</td>\n",
       "      <td>EE. UU.</td>\n",
       "      <td>5437</td>\n",
       "    </tr>\n",
       "    <tr>\n",
       "      <th>4</th>\n",
       "      <td>Alemania</td>\n",
       "      <td>EE. UU.</td>\n",
       "      <td>3959</td>\n",
       "    </tr>\n",
       "    <tr>\n",
       "      <th>...</th>\n",
       "      <td>...</td>\n",
       "      <td>...</td>\n",
       "      <td>...</td>\n",
       "    </tr>\n",
       "    <tr>\n",
       "      <th>304</th>\n",
       "      <td>Eritrea</td>\n",
       "      <td>EE. UU.</td>\n",
       "      <td>1</td>\n",
       "    </tr>\n",
       "    <tr>\n",
       "      <th>305</th>\n",
       "      <td>Eslovenia</td>\n",
       "      <td>Puerto Rico</td>\n",
       "      <td>1</td>\n",
       "    </tr>\n",
       "    <tr>\n",
       "      <th>306</th>\n",
       "      <td>Guinea Ecuatorial</td>\n",
       "      <td>Puerto Rico</td>\n",
       "      <td>1</td>\n",
       "    </tr>\n",
       "    <tr>\n",
       "      <th>307</th>\n",
       "      <td>Burundi</td>\n",
       "      <td>EE. UU.</td>\n",
       "      <td>1</td>\n",
       "    </tr>\n",
       "    <tr>\n",
       "      <th>308</th>\n",
       "      <td>Suazilandia</td>\n",
       "      <td>Puerto Rico</td>\n",
       "      <td>1</td>\n",
       "    </tr>\n",
       "  </tbody>\n",
       "</table>\n",
       "<p>309 rows × 3 columns</p>\n",
       "</div>"
      ],
      "text/plain": [
       "         Order Country Customer Country  Total_Sales\n",
       "0       Estados Unidos          EE. UU.        11045\n",
       "1       Estados Unidos      Puerto Rico         6805\n",
       "2               México          EE. UU.         5843\n",
       "3              Francia          EE. UU.         5437\n",
       "4             Alemania          EE. UU.         3959\n",
       "..                 ...              ...          ...\n",
       "304            Eritrea          EE. UU.            1\n",
       "305          Eslovenia      Puerto Rico            1\n",
       "306  Guinea Ecuatorial      Puerto Rico            1\n",
       "307            Burundi          EE. UU.            1\n",
       "308        Suazilandia      Puerto Rico            1\n",
       "\n",
       "[309 rows x 3 columns]"
      ]
     },
     "execution_count": 117,
     "metadata": {},
     "output_type": "execute_result"
    }
   ],
   "source": [
    "maker_countries"
   ]
  },
  {
   "cell_type": "code",
   "execution_count": 123,
   "id": "4531087f",
   "metadata": {},
   "outputs": [],
   "source": [
    "# changing different names of the same country to same country\n",
    "maker_countries['Customer Country'] = maker_countries['Customer Country'].apply(lambda x: 'United States' if str(x) in ['EE. UU.','Estados Unidos'] else x)\n",
    "maker_countries['Order Country'] = maker_countries['Order Country'].apply(lambda x: 'United States' if str(x) in ['EE. UU.','Estados Unidos'] else x)"
   ]
  },
  {
   "cell_type": "code",
   "execution_count": 124,
   "id": "a0a63c30",
   "metadata": {},
   "outputs": [
    {
     "data": {
      "text/plain": [
       "309"
      ]
     },
     "execution_count": 124,
     "metadata": {},
     "output_type": "execute_result"
    }
   ],
   "source": [
    "len(maker_countries)"
   ]
  },
  {
   "cell_type": "code",
   "execution_count": 128,
   "id": "ef84e822",
   "metadata": {},
   "outputs": [],
   "source": [
    "countries_with_long_lat = pd.read_csv(\"data/country_vs_long_lat.csv\", encoding='latin-1')"
   ]
  },
  {
   "cell_type": "code",
   "execution_count": 129,
   "id": "dab7825a",
   "metadata": {},
   "outputs": [
    {
     "data": {
      "text/html": [
       "<div>\n",
       "<style scoped>\n",
       "    .dataframe tbody tr th:only-of-type {\n",
       "        vertical-align: middle;\n",
       "    }\n",
       "\n",
       "    .dataframe tbody tr th {\n",
       "        vertical-align: top;\n",
       "    }\n",
       "\n",
       "    .dataframe thead th {\n",
       "        text-align: right;\n",
       "    }\n",
       "</style>\n",
       "<table border=\"1\" class=\"dataframe\">\n",
       "  <thead>\n",
       "    <tr style=\"text-align: right;\">\n",
       "      <th></th>\n",
       "      <th>Order Country</th>\n",
       "      <th>Customer Country</th>\n",
       "      <th>Total_Sales</th>\n",
       "      <th>ï»¿country</th>\n",
       "      <th>latitude</th>\n",
       "      <th>longitude</th>\n",
       "      <th>name</th>\n",
       "    </tr>\n",
       "  </thead>\n",
       "  <tbody>\n",
       "    <tr>\n",
       "      <th>0</th>\n",
       "      <td>United States</td>\n",
       "      <td>United States</td>\n",
       "      <td>11045</td>\n",
       "      <td>US</td>\n",
       "      <td>37.090240</td>\n",
       "      <td>-95.712891</td>\n",
       "      <td>United States</td>\n",
       "    </tr>\n",
       "    <tr>\n",
       "      <th>1</th>\n",
       "      <td>United States</td>\n",
       "      <td>Puerto Rico</td>\n",
       "      <td>6805</td>\n",
       "      <td>US</td>\n",
       "      <td>37.090240</td>\n",
       "      <td>-95.712891</td>\n",
       "      <td>United States</td>\n",
       "    </tr>\n",
       "    <tr>\n",
       "      <th>2</th>\n",
       "      <td>México</td>\n",
       "      <td>United States</td>\n",
       "      <td>5843</td>\n",
       "      <td>NaN</td>\n",
       "      <td>NaN</td>\n",
       "      <td>NaN</td>\n",
       "      <td>NaN</td>\n",
       "    </tr>\n",
       "    <tr>\n",
       "      <th>3</th>\n",
       "      <td>Francia</td>\n",
       "      <td>United States</td>\n",
       "      <td>5437</td>\n",
       "      <td>FR</td>\n",
       "      <td>46.227638</td>\n",
       "      <td>2.213749</td>\n",
       "      <td>Francia</td>\n",
       "    </tr>\n",
       "    <tr>\n",
       "      <th>4</th>\n",
       "      <td>Alemania</td>\n",
       "      <td>United States</td>\n",
       "      <td>3959</td>\n",
       "      <td>DE</td>\n",
       "      <td>51.165691</td>\n",
       "      <td>10.451526</td>\n",
       "      <td>Alemania</td>\n",
       "    </tr>\n",
       "    <tr>\n",
       "      <th>...</th>\n",
       "      <td>...</td>\n",
       "      <td>...</td>\n",
       "      <td>...</td>\n",
       "      <td>...</td>\n",
       "      <td>...</td>\n",
       "      <td>...</td>\n",
       "      <td>...</td>\n",
       "    </tr>\n",
       "    <tr>\n",
       "      <th>304</th>\n",
       "      <td>Eritrea</td>\n",
       "      <td>United States</td>\n",
       "      <td>1</td>\n",
       "      <td>ER</td>\n",
       "      <td>15.179384</td>\n",
       "      <td>39.782334</td>\n",
       "      <td>Eritrea</td>\n",
       "    </tr>\n",
       "    <tr>\n",
       "      <th>305</th>\n",
       "      <td>Eslovenia</td>\n",
       "      <td>Puerto Rico</td>\n",
       "      <td>1</td>\n",
       "      <td>NaN</td>\n",
       "      <td>NaN</td>\n",
       "      <td>NaN</td>\n",
       "      <td>NaN</td>\n",
       "    </tr>\n",
       "    <tr>\n",
       "      <th>306</th>\n",
       "      <td>Guinea Ecuatorial</td>\n",
       "      <td>Puerto Rico</td>\n",
       "      <td>1</td>\n",
       "      <td>GQ</td>\n",
       "      <td>1.650801</td>\n",
       "      <td>10.267895</td>\n",
       "      <td>Guinea Ecuatorial</td>\n",
       "    </tr>\n",
       "    <tr>\n",
       "      <th>307</th>\n",
       "      <td>Burundi</td>\n",
       "      <td>United States</td>\n",
       "      <td>1</td>\n",
       "      <td>BI</td>\n",
       "      <td>-3.373056</td>\n",
       "      <td>29.918886</td>\n",
       "      <td>Burundi</td>\n",
       "    </tr>\n",
       "    <tr>\n",
       "      <th>308</th>\n",
       "      <td>Suazilandia</td>\n",
       "      <td>Puerto Rico</td>\n",
       "      <td>1</td>\n",
       "      <td>NEW</td>\n",
       "      <td>26.522500</td>\n",
       "      <td>31.465900</td>\n",
       "      <td>Suazilandia</td>\n",
       "    </tr>\n",
       "  </tbody>\n",
       "</table>\n",
       "<p>309 rows × 7 columns</p>\n",
       "</div>"
      ],
      "text/plain": [
       "         Order Country Customer Country  Total_Sales ï»¿country   latitude  \\\n",
       "0        United States    United States        11045         US  37.090240   \n",
       "1        United States      Puerto Rico         6805         US  37.090240   \n",
       "2               México    United States         5843        NaN        NaN   \n",
       "3              Francia    United States         5437         FR  46.227638   \n",
       "4             Alemania    United States         3959         DE  51.165691   \n",
       "..                 ...              ...          ...        ...        ...   \n",
       "304            Eritrea    United States            1         ER  15.179384   \n",
       "305          Eslovenia      Puerto Rico            1        NaN        NaN   \n",
       "306  Guinea Ecuatorial      Puerto Rico            1         GQ   1.650801   \n",
       "307            Burundi    United States            1         BI  -3.373056   \n",
       "308        Suazilandia      Puerto Rico            1        NEW  26.522500   \n",
       "\n",
       "     longitude               name  \n",
       "0   -95.712891      United States  \n",
       "1   -95.712891      United States  \n",
       "2          NaN                NaN  \n",
       "3     2.213749            Francia  \n",
       "4    10.451526           Alemania  \n",
       "..         ...                ...  \n",
       "304  39.782334            Eritrea  \n",
       "305        NaN                NaN  \n",
       "306  10.267895  Guinea Ecuatorial  \n",
       "307  29.918886            Burundi  \n",
       "308  31.465900        Suazilandia  \n",
       "\n",
       "[309 rows x 7 columns]"
      ]
     },
     "execution_count": 129,
     "metadata": {},
     "output_type": "execute_result"
    }
   ],
   "source": [
    "joined_dataframe = pd.merge(maker_countries, countries_with_long_lat, left_on=\"Order Country\", right_on=\"name\", how='left')\n",
    "joined_dataframe"
   ]
  },
  {
   "cell_type": "code",
   "execution_count": 127,
   "id": "38239e94",
   "metadata": {},
   "outputs": [
    {
     "data": {
      "text/plain": [
       "array(['México', 'España', 'República Dominicana', 'Turquía', 'Panamá',\n",
       "       'Países Bajos', 'Irán', 'República Democrática del Congo', 'Perú',\n",
       "       'Arabia Saudí', 'Bélgica', 'Japón', 'Pakistán', 'Haití',\n",
       "       'Bangladés', 'Sudán', 'Kazajistán', 'Camerún', 'República Checa',\n",
       "       'Hungría', 'Afganistán', 'Uzbekistán', 'Níger', 'Kirguistán',\n",
       "       'Azerbaiyán', 'Benín', 'Turkmenistán', 'Papúa Nueva Guinea',\n",
       "       'Gabón', 'Túnez', 'Taiwán', 'República Centroafricana', 'Etiopía',\n",
       "       'Emiratos Árabes Unidos', 'Líbano', 'República del Congo',\n",
       "       'República de Gambia', 'Sudán del Sur', 'Bután', 'Omán',\n",
       "       'Tayikistán', 'Sáhara Occidental', 'Eslovenia'], dtype=object)"
      ]
     },
     "execution_count": 127,
     "metadata": {},
     "output_type": "execute_result"
    }
   ],
   "source": [
    "joined_dataframe.query('latitude.isnull()')['Order Country'].unique()"
   ]
  },
  {
   "cell_type": "code",
   "execution_count": 135,
   "id": "cb09997d",
   "metadata": {},
   "outputs": [
    {
     "data": {
      "text/html": [
       "<div>\n",
       "<style scoped>\n",
       "    .dataframe tbody tr th:only-of-type {\n",
       "        vertical-align: middle;\n",
       "    }\n",
       "\n",
       "    .dataframe tbody tr th {\n",
       "        vertical-align: top;\n",
       "    }\n",
       "\n",
       "    .dataframe thead th {\n",
       "        text-align: right;\n",
       "    }\n",
       "</style>\n",
       "<table border=\"1\" class=\"dataframe\">\n",
       "  <thead>\n",
       "    <tr style=\"text-align: right;\">\n",
       "      <th></th>\n",
       "      <th>ï»¿country</th>\n",
       "      <th>latitude</th>\n",
       "      <th>longitude</th>\n",
       "      <th>name</th>\n",
       "    </tr>\n",
       "  </thead>\n",
       "  <tbody>\n",
       "    <tr>\n",
       "      <th>100</th>\n",
       "      <td>IL</td>\n",
       "      <td>31.046051</td>\n",
       "      <td>34.851612</td>\n",
       "      <td>Israel</td>\n",
       "    </tr>\n",
       "  </tbody>\n",
       "</table>\n",
       "</div>"
      ],
      "text/plain": [
       "    ï»¿country   latitude  longitude    name\n",
       "100         IL  31.046051  34.851612  Israel"
      ]
     },
     "execution_count": 135,
     "metadata": {},
     "output_type": "execute_result"
    }
   ],
   "source": [
    "countries_with_long_lat.query('name == \"Israel\"')"
   ]
  },
  {
   "cell_type": "code",
   "execution_count": 84,
   "id": "4c722ee0",
   "metadata": {},
   "outputs": [],
   "source": [
    "joined_dataframe = pd.merge(joined_dataframe, countries_with_long_lat, left_on=\"Customer Country\", right_on=\"name\")"
   ]
  },
  {
   "cell_type": "code",
   "execution_count": 90,
   "id": "b9fd3cf1",
   "metadata": {},
   "outputs": [
    {
     "data": {
      "text/html": [
       "<div>\n",
       "<style scoped>\n",
       "    .dataframe tbody tr th:only-of-type {\n",
       "        vertical-align: middle;\n",
       "    }\n",
       "\n",
       "    .dataframe tbody tr th {\n",
       "        vertical-align: top;\n",
       "    }\n",
       "\n",
       "    .dataframe thead th {\n",
       "        text-align: right;\n",
       "    }\n",
       "</style>\n",
       "<table border=\"1\" class=\"dataframe\">\n",
       "  <thead>\n",
       "    <tr style=\"text-align: right;\">\n",
       "      <th></th>\n",
       "      <th>Order Country</th>\n",
       "      <th>Customer Country</th>\n",
       "      <th>Total_Sales</th>\n",
       "      <th>ï»¿country_x</th>\n",
       "      <th>latitude_x</th>\n",
       "      <th>longitude_x</th>\n",
       "      <th>name_x</th>\n",
       "      <th>ï»¿country_y</th>\n",
       "      <th>latitude_y</th>\n",
       "      <th>longitude_y</th>\n",
       "      <th>name_y</th>\n",
       "    </tr>\n",
       "  </thead>\n",
       "  <tbody>\n",
       "    <tr>\n",
       "      <th>0</th>\n",
       "      <td>Australia</td>\n",
       "      <td>Puerto Rico</td>\n",
       "      <td>1887</td>\n",
       "      <td>AU</td>\n",
       "      <td>-25.274398</td>\n",
       "      <td>133.775136</td>\n",
       "      <td>Australia</td>\n",
       "      <td>PR</td>\n",
       "      <td>18.220833</td>\n",
       "      <td>-66.590149</td>\n",
       "      <td>Puerto Rico</td>\n",
       "    </tr>\n",
       "    <tr>\n",
       "      <th>1</th>\n",
       "      <td>China</td>\n",
       "      <td>Puerto Rico</td>\n",
       "      <td>1274</td>\n",
       "      <td>CN</td>\n",
       "      <td>35.861660</td>\n",
       "      <td>104.195397</td>\n",
       "      <td>China</td>\n",
       "      <td>PR</td>\n",
       "      <td>18.220833</td>\n",
       "      <td>-66.590149</td>\n",
       "      <td>Puerto Rico</td>\n",
       "    </tr>\n",
       "    <tr>\n",
       "      <th>2</th>\n",
       "      <td>India</td>\n",
       "      <td>Puerto Rico</td>\n",
       "      <td>1070</td>\n",
       "      <td>IN</td>\n",
       "      <td>20.593684</td>\n",
       "      <td>78.962880</td>\n",
       "      <td>India</td>\n",
       "      <td>PR</td>\n",
       "      <td>18.220833</td>\n",
       "      <td>-66.590149</td>\n",
       "      <td>Puerto Rico</td>\n",
       "    </tr>\n",
       "    <tr>\n",
       "      <th>3</th>\n",
       "      <td>El Salvador</td>\n",
       "      <td>Puerto Rico</td>\n",
       "      <td>1059</td>\n",
       "      <td>SV</td>\n",
       "      <td>13.794185</td>\n",
       "      <td>-88.896530</td>\n",
       "      <td>El Salvador</td>\n",
       "      <td>PR</td>\n",
       "      <td>18.220833</td>\n",
       "      <td>-66.590149</td>\n",
       "      <td>Puerto Rico</td>\n",
       "    </tr>\n",
       "    <tr>\n",
       "      <th>4</th>\n",
       "      <td>Honduras</td>\n",
       "      <td>Puerto Rico</td>\n",
       "      <td>1054</td>\n",
       "      <td>HN</td>\n",
       "      <td>15.199999</td>\n",
       "      <td>-86.241905</td>\n",
       "      <td>Honduras</td>\n",
       "      <td>PR</td>\n",
       "      <td>18.220833</td>\n",
       "      <td>-66.590149</td>\n",
       "      <td>Puerto Rico</td>\n",
       "    </tr>\n",
       "    <tr>\n",
       "      <th>5</th>\n",
       "      <td>Cuba</td>\n",
       "      <td>Puerto Rico</td>\n",
       "      <td>1052</td>\n",
       "      <td>CU</td>\n",
       "      <td>21.521757</td>\n",
       "      <td>-77.781167</td>\n",
       "      <td>Cuba</td>\n",
       "      <td>PR</td>\n",
       "      <td>18.220833</td>\n",
       "      <td>-66.590149</td>\n",
       "      <td>Puerto Rico</td>\n",
       "    </tr>\n",
       "    <tr>\n",
       "      <th>6</th>\n",
       "      <td>Indonesia</td>\n",
       "      <td>Puerto Rico</td>\n",
       "      <td>950</td>\n",
       "      <td>ID</td>\n",
       "      <td>-0.789275</td>\n",
       "      <td>113.921327</td>\n",
       "      <td>Indonesia</td>\n",
       "      <td>PR</td>\n",
       "      <td>18.220833</td>\n",
       "      <td>-66.590149</td>\n",
       "      <td>Puerto Rico</td>\n",
       "    </tr>\n",
       "    <tr>\n",
       "      <th>7</th>\n",
       "      <td>Nicaragua</td>\n",
       "      <td>Puerto Rico</td>\n",
       "      <td>785</td>\n",
       "      <td>NI</td>\n",
       "      <td>12.865416</td>\n",
       "      <td>-85.207229</td>\n",
       "      <td>Nicaragua</td>\n",
       "      <td>PR</td>\n",
       "      <td>18.220833</td>\n",
       "      <td>-66.590149</td>\n",
       "      <td>Puerto Rico</td>\n",
       "    </tr>\n",
       "    <tr>\n",
       "      <th>8</th>\n",
       "      <td>Guatemala</td>\n",
       "      <td>Puerto Rico</td>\n",
       "      <td>728</td>\n",
       "      <td>GT</td>\n",
       "      <td>15.783471</td>\n",
       "      <td>-90.230759</td>\n",
       "      <td>Guatemala</td>\n",
       "      <td>PR</td>\n",
       "      <td>18.220833</td>\n",
       "      <td>-66.590149</td>\n",
       "      <td>Puerto Rico</td>\n",
       "    </tr>\n",
       "    <tr>\n",
       "      <th>9</th>\n",
       "      <td>Nigeria</td>\n",
       "      <td>Puerto Rico</td>\n",
       "      <td>620</td>\n",
       "      <td>NG</td>\n",
       "      <td>9.081999</td>\n",
       "      <td>8.675277</td>\n",
       "      <td>Nigeria</td>\n",
       "      <td>PR</td>\n",
       "      <td>18.220833</td>\n",
       "      <td>-66.590149</td>\n",
       "      <td>Puerto Rico</td>\n",
       "    </tr>\n",
       "    <tr>\n",
       "      <th>10</th>\n",
       "      <td>Argentina</td>\n",
       "      <td>Puerto Rico</td>\n",
       "      <td>528</td>\n",
       "      <td>AR</td>\n",
       "      <td>-38.416097</td>\n",
       "      <td>-63.616672</td>\n",
       "      <td>Argentina</td>\n",
       "      <td>PR</td>\n",
       "      <td>18.220833</td>\n",
       "      <td>-66.590149</td>\n",
       "      <td>Puerto Rico</td>\n",
       "    </tr>\n",
       "    <tr>\n",
       "      <th>11</th>\n",
       "      <td>Colombia</td>\n",
       "      <td>Puerto Rico</td>\n",
       "      <td>432</td>\n",
       "      <td>CO</td>\n",
       "      <td>4.570868</td>\n",
       "      <td>-74.297333</td>\n",
       "      <td>Colombia</td>\n",
       "      <td>PR</td>\n",
       "      <td>18.220833</td>\n",
       "      <td>-66.590149</td>\n",
       "      <td>Puerto Rico</td>\n",
       "    </tr>\n",
       "    <tr>\n",
       "      <th>12</th>\n",
       "      <td>Austria</td>\n",
       "      <td>Puerto Rico</td>\n",
       "      <td>383</td>\n",
       "      <td>AT</td>\n",
       "      <td>47.516231</td>\n",
       "      <td>14.550072</td>\n",
       "      <td>Austria</td>\n",
       "      <td>PR</td>\n",
       "      <td>18.220833</td>\n",
       "      <td>-66.590149</td>\n",
       "      <td>Puerto Rico</td>\n",
       "    </tr>\n",
       "    <tr>\n",
       "      <th>13</th>\n",
       "      <td>Venezuela</td>\n",
       "      <td>Puerto Rico</td>\n",
       "      <td>265</td>\n",
       "      <td>VE</td>\n",
       "      <td>6.423750</td>\n",
       "      <td>-66.589730</td>\n",
       "      <td>Venezuela</td>\n",
       "      <td>PR</td>\n",
       "      <td>18.220833</td>\n",
       "      <td>-66.590149</td>\n",
       "      <td>Puerto Rico</td>\n",
       "    </tr>\n",
       "    <tr>\n",
       "      <th>14</th>\n",
       "      <td>Canada</td>\n",
       "      <td>Puerto Rico</td>\n",
       "      <td>299</td>\n",
       "      <td>CA</td>\n",
       "      <td>56.130366</td>\n",
       "      <td>-106.346771</td>\n",
       "      <td>Canada</td>\n",
       "      <td>PR</td>\n",
       "      <td>18.220833</td>\n",
       "      <td>-66.590149</td>\n",
       "      <td>Puerto Rico</td>\n",
       "    </tr>\n",
       "    <tr>\n",
       "      <th>15</th>\n",
       "      <td>Vietnam</td>\n",
       "      <td>Puerto Rico</td>\n",
       "      <td>165</td>\n",
       "      <td>VN</td>\n",
       "      <td>14.058324</td>\n",
       "      <td>108.277199</td>\n",
       "      <td>Vietnam</td>\n",
       "      <td>PR</td>\n",
       "      <td>18.220833</td>\n",
       "      <td>-66.590149</td>\n",
       "      <td>Puerto Rico</td>\n",
       "    </tr>\n",
       "    <tr>\n",
       "      <th>16</th>\n",
       "      <td>Chile</td>\n",
       "      <td>Puerto Rico</td>\n",
       "      <td>209</td>\n",
       "      <td>CL</td>\n",
       "      <td>-35.675147</td>\n",
       "      <td>-71.542969</td>\n",
       "      <td>Chile</td>\n",
       "      <td>PR</td>\n",
       "      <td>18.220833</td>\n",
       "      <td>-66.590149</td>\n",
       "      <td>Puerto Rico</td>\n",
       "    </tr>\n",
       "    <tr>\n",
       "      <th>17</th>\n",
       "      <td>Tanzania</td>\n",
       "      <td>Puerto Rico</td>\n",
       "      <td>93</td>\n",
       "      <td>TZ</td>\n",
       "      <td>-6.369028</td>\n",
       "      <td>34.888822</td>\n",
       "      <td>Tanzania</td>\n",
       "      <td>PR</td>\n",
       "      <td>18.220833</td>\n",
       "      <td>-66.590149</td>\n",
       "      <td>Puerto Rico</td>\n",
       "    </tr>\n",
       "    <tr>\n",
       "      <th>18</th>\n",
       "      <td>Portugal</td>\n",
       "      <td>Puerto Rico</td>\n",
       "      <td>64</td>\n",
       "      <td>PT</td>\n",
       "      <td>39.399872</td>\n",
       "      <td>-8.224454</td>\n",
       "      <td>Portugal</td>\n",
       "      <td>PR</td>\n",
       "      <td>18.220833</td>\n",
       "      <td>-66.590149</td>\n",
       "      <td>Puerto Rico</td>\n",
       "    </tr>\n",
       "    <tr>\n",
       "      <th>19</th>\n",
       "      <td>Ghana</td>\n",
       "      <td>Puerto Rico</td>\n",
       "      <td>58</td>\n",
       "      <td>GH</td>\n",
       "      <td>7.946527</td>\n",
       "      <td>-1.023194</td>\n",
       "      <td>Ghana</td>\n",
       "      <td>PR</td>\n",
       "      <td>18.220833</td>\n",
       "      <td>-66.590149</td>\n",
       "      <td>Puerto Rico</td>\n",
       "    </tr>\n",
       "    <tr>\n",
       "      <th>20</th>\n",
       "      <td>Israel</td>\n",
       "      <td>Puerto Rico</td>\n",
       "      <td>63</td>\n",
       "      <td>IL</td>\n",
       "      <td>31.046051</td>\n",
       "      <td>34.851612</td>\n",
       "      <td>Israel</td>\n",
       "      <td>PR</td>\n",
       "      <td>18.220833</td>\n",
       "      <td>-66.590149</td>\n",
       "      <td>Puerto Rico</td>\n",
       "    </tr>\n",
       "    <tr>\n",
       "      <th>21</th>\n",
       "      <td>Angola</td>\n",
       "      <td>Puerto Rico</td>\n",
       "      <td>82</td>\n",
       "      <td>AO</td>\n",
       "      <td>-11.202692</td>\n",
       "      <td>17.873887</td>\n",
       "      <td>Angola</td>\n",
       "      <td>PR</td>\n",
       "      <td>18.220833</td>\n",
       "      <td>-66.590149</td>\n",
       "      <td>Puerto Rico</td>\n",
       "    </tr>\n",
       "    <tr>\n",
       "      <th>22</th>\n",
       "      <td>Zambia</td>\n",
       "      <td>Puerto Rico</td>\n",
       "      <td>72</td>\n",
       "      <td>ZM</td>\n",
       "      <td>-13.133897</td>\n",
       "      <td>27.849332</td>\n",
       "      <td>Zambia</td>\n",
       "      <td>PR</td>\n",
       "      <td>18.220833</td>\n",
       "      <td>-66.590149</td>\n",
       "      <td>Puerto Rico</td>\n",
       "    </tr>\n",
       "    <tr>\n",
       "      <th>23</th>\n",
       "      <td>Ecuador</td>\n",
       "      <td>Puerto Rico</td>\n",
       "      <td>76</td>\n",
       "      <td>EC</td>\n",
       "      <td>-1.831239</td>\n",
       "      <td>-78.183406</td>\n",
       "      <td>Ecuador</td>\n",
       "      <td>PR</td>\n",
       "      <td>18.220833</td>\n",
       "      <td>-66.590149</td>\n",
       "      <td>Puerto Rico</td>\n",
       "    </tr>\n",
       "    <tr>\n",
       "      <th>24</th>\n",
       "      <td>Mozambique</td>\n",
       "      <td>Puerto Rico</td>\n",
       "      <td>58</td>\n",
       "      <td>MZ</td>\n",
       "      <td>-18.665695</td>\n",
       "      <td>35.529562</td>\n",
       "      <td>Mozambique</td>\n",
       "      <td>PR</td>\n",
       "      <td>18.220833</td>\n",
       "      <td>-66.590149</td>\n",
       "      <td>Puerto Rico</td>\n",
       "    </tr>\n",
       "    <tr>\n",
       "      <th>25</th>\n",
       "      <td>Senegal</td>\n",
       "      <td>Puerto Rico</td>\n",
       "      <td>72</td>\n",
       "      <td>SN</td>\n",
       "      <td>14.497401</td>\n",
       "      <td>-14.452362</td>\n",
       "      <td>Senegal</td>\n",
       "      <td>PR</td>\n",
       "      <td>18.220833</td>\n",
       "      <td>-66.590149</td>\n",
       "      <td>Puerto Rico</td>\n",
       "    </tr>\n",
       "    <tr>\n",
       "      <th>26</th>\n",
       "      <td>Bolivia</td>\n",
       "      <td>Puerto Rico</td>\n",
       "      <td>66</td>\n",
       "      <td>BO</td>\n",
       "      <td>-16.290154</td>\n",
       "      <td>-63.588653</td>\n",
       "      <td>Bolivia</td>\n",
       "      <td>PR</td>\n",
       "      <td>18.220833</td>\n",
       "      <td>-66.590149</td>\n",
       "      <td>Puerto Rico</td>\n",
       "    </tr>\n",
       "    <tr>\n",
       "      <th>27</th>\n",
       "      <td>Bulgaria</td>\n",
       "      <td>Puerto Rico</td>\n",
       "      <td>54</td>\n",
       "      <td>BG</td>\n",
       "      <td>42.733883</td>\n",
       "      <td>25.485830</td>\n",
       "      <td>Bulgaria</td>\n",
       "      <td>PR</td>\n",
       "      <td>18.220833</td>\n",
       "      <td>-66.590149</td>\n",
       "      <td>Puerto Rico</td>\n",
       "    </tr>\n",
       "    <tr>\n",
       "      <th>28</th>\n",
       "      <td>Madagascar</td>\n",
       "      <td>Puerto Rico</td>\n",
       "      <td>46</td>\n",
       "      <td>MG</td>\n",
       "      <td>-18.766947</td>\n",
       "      <td>46.869107</td>\n",
       "      <td>Madagascar</td>\n",
       "      <td>PR</td>\n",
       "      <td>18.220833</td>\n",
       "      <td>-66.590149</td>\n",
       "      <td>Puerto Rico</td>\n",
       "    </tr>\n",
       "    <tr>\n",
       "      <th>29</th>\n",
       "      <td>Jamaica</td>\n",
       "      <td>Puerto Rico</td>\n",
       "      <td>55</td>\n",
       "      <td>JM</td>\n",
       "      <td>18.109581</td>\n",
       "      <td>-77.297508</td>\n",
       "      <td>Jamaica</td>\n",
       "      <td>PR</td>\n",
       "      <td>18.220833</td>\n",
       "      <td>-66.590149</td>\n",
       "      <td>Puerto Rico</td>\n",
       "    </tr>\n",
       "    <tr>\n",
       "      <th>30</th>\n",
       "      <td>Somalia</td>\n",
       "      <td>Puerto Rico</td>\n",
       "      <td>43</td>\n",
       "      <td>SO</td>\n",
       "      <td>5.152149</td>\n",
       "      <td>46.199616</td>\n",
       "      <td>Somalia</td>\n",
       "      <td>PR</td>\n",
       "      <td>18.220833</td>\n",
       "      <td>-66.590149</td>\n",
       "      <td>Puerto Rico</td>\n",
       "    </tr>\n",
       "    <tr>\n",
       "      <th>31</th>\n",
       "      <td>Togo</td>\n",
       "      <td>Puerto Rico</td>\n",
       "      <td>38</td>\n",
       "      <td>TG</td>\n",
       "      <td>8.619543</td>\n",
       "      <td>0.824782</td>\n",
       "      <td>Togo</td>\n",
       "      <td>PR</td>\n",
       "      <td>18.220833</td>\n",
       "      <td>-66.590149</td>\n",
       "      <td>Puerto Rico</td>\n",
       "    </tr>\n",
       "    <tr>\n",
       "      <th>32</th>\n",
       "      <td>Uruguay</td>\n",
       "      <td>Puerto Rico</td>\n",
       "      <td>42</td>\n",
       "      <td>UY</td>\n",
       "      <td>-32.522779</td>\n",
       "      <td>-55.765835</td>\n",
       "      <td>Uruguay</td>\n",
       "      <td>PR</td>\n",
       "      <td>18.220833</td>\n",
       "      <td>-66.590149</td>\n",
       "      <td>Puerto Rico</td>\n",
       "    </tr>\n",
       "    <tr>\n",
       "      <th>33</th>\n",
       "      <td>Barbados</td>\n",
       "      <td>Puerto Rico</td>\n",
       "      <td>34</td>\n",
       "      <td>BB</td>\n",
       "      <td>13.193887</td>\n",
       "      <td>-59.543198</td>\n",
       "      <td>Barbados</td>\n",
       "      <td>PR</td>\n",
       "      <td>18.220833</td>\n",
       "      <td>-66.590149</td>\n",
       "      <td>Puerto Rico</td>\n",
       "    </tr>\n",
       "    <tr>\n",
       "      <th>34</th>\n",
       "      <td>Uganda</td>\n",
       "      <td>Puerto Rico</td>\n",
       "      <td>21</td>\n",
       "      <td>UG</td>\n",
       "      <td>1.373333</td>\n",
       "      <td>32.290275</td>\n",
       "      <td>Uganda</td>\n",
       "      <td>PR</td>\n",
       "      <td>18.220833</td>\n",
       "      <td>-66.590149</td>\n",
       "      <td>Puerto Rico</td>\n",
       "    </tr>\n",
       "    <tr>\n",
       "      <th>35</th>\n",
       "      <td>Georgia</td>\n",
       "      <td>Puerto Rico</td>\n",
       "      <td>27</td>\n",
       "      <td>GE</td>\n",
       "      <td>42.315407</td>\n",
       "      <td>43.356892</td>\n",
       "      <td>Georgia</td>\n",
       "      <td>PR</td>\n",
       "      <td>18.220833</td>\n",
       "      <td>-66.590149</td>\n",
       "      <td>Puerto Rico</td>\n",
       "    </tr>\n",
       "    <tr>\n",
       "      <th>36</th>\n",
       "      <td>Mali</td>\n",
       "      <td>Puerto Rico</td>\n",
       "      <td>36</td>\n",
       "      <td>ML</td>\n",
       "      <td>17.570692</td>\n",
       "      <td>-3.996166</td>\n",
       "      <td>Mali</td>\n",
       "      <td>PR</td>\n",
       "      <td>18.220833</td>\n",
       "      <td>-66.590149</td>\n",
       "      <td>Puerto Rico</td>\n",
       "    </tr>\n",
       "    <tr>\n",
       "      <th>37</th>\n",
       "      <td>Paraguay</td>\n",
       "      <td>Puerto Rico</td>\n",
       "      <td>21</td>\n",
       "      <td>PY</td>\n",
       "      <td>-23.442503</td>\n",
       "      <td>-58.443832</td>\n",
       "      <td>Paraguay</td>\n",
       "      <td>PR</td>\n",
       "      <td>18.220833</td>\n",
       "      <td>-66.590149</td>\n",
       "      <td>Puerto Rico</td>\n",
       "    </tr>\n",
       "    <tr>\n",
       "      <th>38</th>\n",
       "      <td>Nepal</td>\n",
       "      <td>Puerto Rico</td>\n",
       "      <td>23</td>\n",
       "      <td>NP</td>\n",
       "      <td>28.394857</td>\n",
       "      <td>84.124008</td>\n",
       "      <td>Nepal</td>\n",
       "      <td>PR</td>\n",
       "      <td>18.220833</td>\n",
       "      <td>-66.590149</td>\n",
       "      <td>Puerto Rico</td>\n",
       "    </tr>\n",
       "    <tr>\n",
       "      <th>39</th>\n",
       "      <td>Hong Kong</td>\n",
       "      <td>Puerto Rico</td>\n",
       "      <td>9</td>\n",
       "      <td>HK</td>\n",
       "      <td>22.396428</td>\n",
       "      <td>114.109497</td>\n",
       "      <td>Hong Kong</td>\n",
       "      <td>PR</td>\n",
       "      <td>18.220833</td>\n",
       "      <td>-66.590149</td>\n",
       "      <td>Puerto Rico</td>\n",
       "    </tr>\n",
       "    <tr>\n",
       "      <th>40</th>\n",
       "      <td>Yemen</td>\n",
       "      <td>Puerto Rico</td>\n",
       "      <td>22</td>\n",
       "      <td>YE</td>\n",
       "      <td>15.552727</td>\n",
       "      <td>48.516388</td>\n",
       "      <td>Yemen</td>\n",
       "      <td>PR</td>\n",
       "      <td>18.220833</td>\n",
       "      <td>-66.590149</td>\n",
       "      <td>Puerto Rico</td>\n",
       "    </tr>\n",
       "    <tr>\n",
       "      <th>41</th>\n",
       "      <td>Mongolia</td>\n",
       "      <td>Puerto Rico</td>\n",
       "      <td>29</td>\n",
       "      <td>MN</td>\n",
       "      <td>46.862496</td>\n",
       "      <td>103.846656</td>\n",
       "      <td>Mongolia</td>\n",
       "      <td>PR</td>\n",
       "      <td>18.220833</td>\n",
       "      <td>-66.590149</td>\n",
       "      <td>Puerto Rico</td>\n",
       "    </tr>\n",
       "    <tr>\n",
       "      <th>42</th>\n",
       "      <td>Guinea</td>\n",
       "      <td>Puerto Rico</td>\n",
       "      <td>4</td>\n",
       "      <td>GN</td>\n",
       "      <td>9.945587</td>\n",
       "      <td>-9.696645</td>\n",
       "      <td>Guinea</td>\n",
       "      <td>PR</td>\n",
       "      <td>18.220833</td>\n",
       "      <td>-66.590149</td>\n",
       "      <td>Puerto Rico</td>\n",
       "    </tr>\n",
       "    <tr>\n",
       "      <th>43</th>\n",
       "      <td>Albania</td>\n",
       "      <td>Puerto Rico</td>\n",
       "      <td>8</td>\n",
       "      <td>AL</td>\n",
       "      <td>41.153332</td>\n",
       "      <td>20.168331</td>\n",
       "      <td>Albania</td>\n",
       "      <td>PR</td>\n",
       "      <td>18.220833</td>\n",
       "      <td>-66.590149</td>\n",
       "      <td>Puerto Rico</td>\n",
       "    </tr>\n",
       "    <tr>\n",
       "      <th>44</th>\n",
       "      <td>Costa Rica</td>\n",
       "      <td>Puerto Rico</td>\n",
       "      <td>10</td>\n",
       "      <td>CR</td>\n",
       "      <td>9.748917</td>\n",
       "      <td>-83.753428</td>\n",
       "      <td>Costa Rica</td>\n",
       "      <td>PR</td>\n",
       "      <td>18.220833</td>\n",
       "      <td>-66.590149</td>\n",
       "      <td>Puerto Rico</td>\n",
       "    </tr>\n",
       "    <tr>\n",
       "      <th>45</th>\n",
       "      <td>Qatar</td>\n",
       "      <td>Puerto Rico</td>\n",
       "      <td>12</td>\n",
       "      <td>QA</td>\n",
       "      <td>25.354826</td>\n",
       "      <td>51.183884</td>\n",
       "      <td>Qatar</td>\n",
       "      <td>PR</td>\n",
       "      <td>18.220833</td>\n",
       "      <td>-66.590149</td>\n",
       "      <td>Puerto Rico</td>\n",
       "    </tr>\n",
       "    <tr>\n",
       "      <th>46</th>\n",
       "      <td>Guinea-Bissau</td>\n",
       "      <td>Puerto Rico</td>\n",
       "      <td>4</td>\n",
       "      <td>GW</td>\n",
       "      <td>11.803749</td>\n",
       "      <td>-15.180413</td>\n",
       "      <td>Guinea-Bissau</td>\n",
       "      <td>PR</td>\n",
       "      <td>18.220833</td>\n",
       "      <td>-66.590149</td>\n",
       "      <td>Puerto Rico</td>\n",
       "    </tr>\n",
       "    <tr>\n",
       "      <th>47</th>\n",
       "      <td>Liberia</td>\n",
       "      <td>Puerto Rico</td>\n",
       "      <td>13</td>\n",
       "      <td>LR</td>\n",
       "      <td>6.428055</td>\n",
       "      <td>-9.429499</td>\n",
       "      <td>Liberia</td>\n",
       "      <td>PR</td>\n",
       "      <td>18.220833</td>\n",
       "      <td>-66.590149</td>\n",
       "      <td>Puerto Rico</td>\n",
       "    </tr>\n",
       "    <tr>\n",
       "      <th>48</th>\n",
       "      <td>Guyana</td>\n",
       "      <td>Puerto Rico</td>\n",
       "      <td>4</td>\n",
       "      <td>GY</td>\n",
       "      <td>4.860416</td>\n",
       "      <td>-58.930180</td>\n",
       "      <td>Guyana</td>\n",
       "      <td>PR</td>\n",
       "      <td>18.220833</td>\n",
       "      <td>-66.590149</td>\n",
       "      <td>Puerto Rico</td>\n",
       "    </tr>\n",
       "    <tr>\n",
       "      <th>49</th>\n",
       "      <td>Estonia</td>\n",
       "      <td>Puerto Rico</td>\n",
       "      <td>10</td>\n",
       "      <td>EE</td>\n",
       "      <td>58.595272</td>\n",
       "      <td>25.013607</td>\n",
       "      <td>Estonia</td>\n",
       "      <td>PR</td>\n",
       "      <td>18.220833</td>\n",
       "      <td>-66.590149</td>\n",
       "      <td>Puerto Rico</td>\n",
       "    </tr>\n",
       "    <tr>\n",
       "      <th>50</th>\n",
       "      <td>Namibia</td>\n",
       "      <td>Puerto Rico</td>\n",
       "      <td>7</td>\n",
       "      <td>NaN</td>\n",
       "      <td>-22.957640</td>\n",
       "      <td>18.490410</td>\n",
       "      <td>Namibia</td>\n",
       "      <td>PR</td>\n",
       "      <td>18.220833</td>\n",
       "      <td>-66.590149</td>\n",
       "      <td>Puerto Rico</td>\n",
       "    </tr>\n",
       "    <tr>\n",
       "      <th>51</th>\n",
       "      <td>Mauritania</td>\n",
       "      <td>Puerto Rico</td>\n",
       "      <td>5</td>\n",
       "      <td>MR</td>\n",
       "      <td>21.007890</td>\n",
       "      <td>-10.940835</td>\n",
       "      <td>Mauritania</td>\n",
       "      <td>PR</td>\n",
       "      <td>18.220833</td>\n",
       "      <td>-66.590149</td>\n",
       "      <td>Puerto Rico</td>\n",
       "    </tr>\n",
       "    <tr>\n",
       "      <th>52</th>\n",
       "      <td>Sri Lanka</td>\n",
       "      <td>Puerto Rico</td>\n",
       "      <td>3</td>\n",
       "      <td>LK</td>\n",
       "      <td>7.873054</td>\n",
       "      <td>80.771797</td>\n",
       "      <td>Sri Lanka</td>\n",
       "      <td>PR</td>\n",
       "      <td>18.220833</td>\n",
       "      <td>-66.590149</td>\n",
       "      <td>Puerto Rico</td>\n",
       "    </tr>\n",
       "    <tr>\n",
       "      <th>53</th>\n",
       "      <td>Laos</td>\n",
       "      <td>Puerto Rico</td>\n",
       "      <td>2</td>\n",
       "      <td>LA</td>\n",
       "      <td>19.856270</td>\n",
       "      <td>102.495496</td>\n",
       "      <td>Laos</td>\n",
       "      <td>PR</td>\n",
       "      <td>18.220833</td>\n",
       "      <td>-66.590149</td>\n",
       "      <td>Puerto Rico</td>\n",
       "    </tr>\n",
       "    <tr>\n",
       "      <th>54</th>\n",
       "      <td>Kuwait</td>\n",
       "      <td>Puerto Rico</td>\n",
       "      <td>1</td>\n",
       "      <td>KW</td>\n",
       "      <td>29.311660</td>\n",
       "      <td>47.481766</td>\n",
       "      <td>Kuwait</td>\n",
       "      <td>PR</td>\n",
       "      <td>18.220833</td>\n",
       "      <td>-66.590149</td>\n",
       "      <td>Puerto Rico</td>\n",
       "    </tr>\n",
       "  </tbody>\n",
       "</table>\n",
       "</div>"
      ],
      "text/plain": [
       "    Order Country Customer Country  Total_Sales ï»¿country_x  latitude_x  \\\n",
       "0       Australia      Puerto Rico         1887           AU  -25.274398   \n",
       "1           China      Puerto Rico         1274           CN   35.861660   \n",
       "2           India      Puerto Rico         1070           IN   20.593684   \n",
       "3     El Salvador      Puerto Rico         1059           SV   13.794185   \n",
       "4        Honduras      Puerto Rico         1054           HN   15.199999   \n",
       "5            Cuba      Puerto Rico         1052           CU   21.521757   \n",
       "6       Indonesia      Puerto Rico          950           ID   -0.789275   \n",
       "7       Nicaragua      Puerto Rico          785           NI   12.865416   \n",
       "8       Guatemala      Puerto Rico          728           GT   15.783471   \n",
       "9         Nigeria      Puerto Rico          620           NG    9.081999   \n",
       "10      Argentina      Puerto Rico          528           AR  -38.416097   \n",
       "11       Colombia      Puerto Rico          432           CO    4.570868   \n",
       "12        Austria      Puerto Rico          383           AT   47.516231   \n",
       "13      Venezuela      Puerto Rico          265           VE    6.423750   \n",
       "14         Canada      Puerto Rico          299           CA   56.130366   \n",
       "15        Vietnam      Puerto Rico          165           VN   14.058324   \n",
       "16          Chile      Puerto Rico          209           CL  -35.675147   \n",
       "17       Tanzania      Puerto Rico           93           TZ   -6.369028   \n",
       "18       Portugal      Puerto Rico           64           PT   39.399872   \n",
       "19          Ghana      Puerto Rico           58           GH    7.946527   \n",
       "20         Israel      Puerto Rico           63           IL   31.046051   \n",
       "21         Angola      Puerto Rico           82           AO  -11.202692   \n",
       "22         Zambia      Puerto Rico           72           ZM  -13.133897   \n",
       "23        Ecuador      Puerto Rico           76           EC   -1.831239   \n",
       "24     Mozambique      Puerto Rico           58           MZ  -18.665695   \n",
       "25        Senegal      Puerto Rico           72           SN   14.497401   \n",
       "26        Bolivia      Puerto Rico           66           BO  -16.290154   \n",
       "27       Bulgaria      Puerto Rico           54           BG   42.733883   \n",
       "28     Madagascar      Puerto Rico           46           MG  -18.766947   \n",
       "29        Jamaica      Puerto Rico           55           JM   18.109581   \n",
       "30        Somalia      Puerto Rico           43           SO    5.152149   \n",
       "31           Togo      Puerto Rico           38           TG    8.619543   \n",
       "32        Uruguay      Puerto Rico           42           UY  -32.522779   \n",
       "33       Barbados      Puerto Rico           34           BB   13.193887   \n",
       "34         Uganda      Puerto Rico           21           UG    1.373333   \n",
       "35        Georgia      Puerto Rico           27           GE   42.315407   \n",
       "36           Mali      Puerto Rico           36           ML   17.570692   \n",
       "37       Paraguay      Puerto Rico           21           PY  -23.442503   \n",
       "38          Nepal      Puerto Rico           23           NP   28.394857   \n",
       "39      Hong Kong      Puerto Rico            9           HK   22.396428   \n",
       "40          Yemen      Puerto Rico           22           YE   15.552727   \n",
       "41       Mongolia      Puerto Rico           29           MN   46.862496   \n",
       "42         Guinea      Puerto Rico            4           GN    9.945587   \n",
       "43        Albania      Puerto Rico            8           AL   41.153332   \n",
       "44     Costa Rica      Puerto Rico           10           CR    9.748917   \n",
       "45          Qatar      Puerto Rico           12           QA   25.354826   \n",
       "46  Guinea-Bissau      Puerto Rico            4           GW   11.803749   \n",
       "47        Liberia      Puerto Rico           13           LR    6.428055   \n",
       "48         Guyana      Puerto Rico            4           GY    4.860416   \n",
       "49        Estonia      Puerto Rico           10           EE   58.595272   \n",
       "50        Namibia      Puerto Rico            7          NaN  -22.957640   \n",
       "51     Mauritania      Puerto Rico            5           MR   21.007890   \n",
       "52      Sri Lanka      Puerto Rico            3           LK    7.873054   \n",
       "53           Laos      Puerto Rico            2           LA   19.856270   \n",
       "54         Kuwait      Puerto Rico            1           KW   29.311660   \n",
       "\n",
       "    longitude_x         name_x ï»¿country_y  latitude_y  longitude_y  \\\n",
       "0    133.775136      Australia           PR   18.220833   -66.590149   \n",
       "1    104.195397          China           PR   18.220833   -66.590149   \n",
       "2     78.962880          India           PR   18.220833   -66.590149   \n",
       "3    -88.896530    El Salvador           PR   18.220833   -66.590149   \n",
       "4    -86.241905       Honduras           PR   18.220833   -66.590149   \n",
       "5    -77.781167           Cuba           PR   18.220833   -66.590149   \n",
       "6    113.921327      Indonesia           PR   18.220833   -66.590149   \n",
       "7    -85.207229      Nicaragua           PR   18.220833   -66.590149   \n",
       "8    -90.230759      Guatemala           PR   18.220833   -66.590149   \n",
       "9      8.675277        Nigeria           PR   18.220833   -66.590149   \n",
       "10   -63.616672      Argentina           PR   18.220833   -66.590149   \n",
       "11   -74.297333       Colombia           PR   18.220833   -66.590149   \n",
       "12    14.550072        Austria           PR   18.220833   -66.590149   \n",
       "13   -66.589730      Venezuela           PR   18.220833   -66.590149   \n",
       "14  -106.346771         Canada           PR   18.220833   -66.590149   \n",
       "15   108.277199        Vietnam           PR   18.220833   -66.590149   \n",
       "16   -71.542969          Chile           PR   18.220833   -66.590149   \n",
       "17    34.888822       Tanzania           PR   18.220833   -66.590149   \n",
       "18    -8.224454       Portugal           PR   18.220833   -66.590149   \n",
       "19    -1.023194          Ghana           PR   18.220833   -66.590149   \n",
       "20    34.851612         Israel           PR   18.220833   -66.590149   \n",
       "21    17.873887         Angola           PR   18.220833   -66.590149   \n",
       "22    27.849332         Zambia           PR   18.220833   -66.590149   \n",
       "23   -78.183406        Ecuador           PR   18.220833   -66.590149   \n",
       "24    35.529562     Mozambique           PR   18.220833   -66.590149   \n",
       "25   -14.452362        Senegal           PR   18.220833   -66.590149   \n",
       "26   -63.588653        Bolivia           PR   18.220833   -66.590149   \n",
       "27    25.485830       Bulgaria           PR   18.220833   -66.590149   \n",
       "28    46.869107     Madagascar           PR   18.220833   -66.590149   \n",
       "29   -77.297508        Jamaica           PR   18.220833   -66.590149   \n",
       "30    46.199616        Somalia           PR   18.220833   -66.590149   \n",
       "31     0.824782           Togo           PR   18.220833   -66.590149   \n",
       "32   -55.765835        Uruguay           PR   18.220833   -66.590149   \n",
       "33   -59.543198       Barbados           PR   18.220833   -66.590149   \n",
       "34    32.290275         Uganda           PR   18.220833   -66.590149   \n",
       "35    43.356892        Georgia           PR   18.220833   -66.590149   \n",
       "36    -3.996166           Mali           PR   18.220833   -66.590149   \n",
       "37   -58.443832       Paraguay           PR   18.220833   -66.590149   \n",
       "38    84.124008          Nepal           PR   18.220833   -66.590149   \n",
       "39   114.109497      Hong Kong           PR   18.220833   -66.590149   \n",
       "40    48.516388          Yemen           PR   18.220833   -66.590149   \n",
       "41   103.846656       Mongolia           PR   18.220833   -66.590149   \n",
       "42    -9.696645         Guinea           PR   18.220833   -66.590149   \n",
       "43    20.168331        Albania           PR   18.220833   -66.590149   \n",
       "44   -83.753428     Costa Rica           PR   18.220833   -66.590149   \n",
       "45    51.183884          Qatar           PR   18.220833   -66.590149   \n",
       "46   -15.180413  Guinea-Bissau           PR   18.220833   -66.590149   \n",
       "47    -9.429499        Liberia           PR   18.220833   -66.590149   \n",
       "48   -58.930180         Guyana           PR   18.220833   -66.590149   \n",
       "49    25.013607        Estonia           PR   18.220833   -66.590149   \n",
       "50    18.490410        Namibia           PR   18.220833   -66.590149   \n",
       "51   -10.940835     Mauritania           PR   18.220833   -66.590149   \n",
       "52    80.771797      Sri Lanka           PR   18.220833   -66.590149   \n",
       "53   102.495496           Laos           PR   18.220833   -66.590149   \n",
       "54    47.481766         Kuwait           PR   18.220833   -66.590149   \n",
       "\n",
       "         name_y  \n",
       "0   Puerto Rico  \n",
       "1   Puerto Rico  \n",
       "2   Puerto Rico  \n",
       "3   Puerto Rico  \n",
       "4   Puerto Rico  \n",
       "5   Puerto Rico  \n",
       "6   Puerto Rico  \n",
       "7   Puerto Rico  \n",
       "8   Puerto Rico  \n",
       "9   Puerto Rico  \n",
       "10  Puerto Rico  \n",
       "11  Puerto Rico  \n",
       "12  Puerto Rico  \n",
       "13  Puerto Rico  \n",
       "14  Puerto Rico  \n",
       "15  Puerto Rico  \n",
       "16  Puerto Rico  \n",
       "17  Puerto Rico  \n",
       "18  Puerto Rico  \n",
       "19  Puerto Rico  \n",
       "20  Puerto Rico  \n",
       "21  Puerto Rico  \n",
       "22  Puerto Rico  \n",
       "23  Puerto Rico  \n",
       "24  Puerto Rico  \n",
       "25  Puerto Rico  \n",
       "26  Puerto Rico  \n",
       "27  Puerto Rico  \n",
       "28  Puerto Rico  \n",
       "29  Puerto Rico  \n",
       "30  Puerto Rico  \n",
       "31  Puerto Rico  \n",
       "32  Puerto Rico  \n",
       "33  Puerto Rico  \n",
       "34  Puerto Rico  \n",
       "35  Puerto Rico  \n",
       "36  Puerto Rico  \n",
       "37  Puerto Rico  \n",
       "38  Puerto Rico  \n",
       "39  Puerto Rico  \n",
       "40  Puerto Rico  \n",
       "41  Puerto Rico  \n",
       "42  Puerto Rico  \n",
       "43  Puerto Rico  \n",
       "44  Puerto Rico  \n",
       "45  Puerto Rico  \n",
       "46  Puerto Rico  \n",
       "47  Puerto Rico  \n",
       "48  Puerto Rico  \n",
       "49  Puerto Rico  \n",
       "50  Puerto Rico  \n",
       "51  Puerto Rico  \n",
       "52  Puerto Rico  \n",
       "53  Puerto Rico  \n",
       "54  Puerto Rico  "
      ]
     },
     "execution_count": 90,
     "metadata": {},
     "output_type": "execute_result"
    }
   ],
   "source": [
    "joined_dataframe.head(100)"
   ]
  },
  {
   "cell_type": "code",
   "execution_count": 73,
   "id": "f01b1d39",
   "metadata": {},
   "outputs": [],
   "source": [
    "countries_with_long_lat = pd.read_csv(\"data/country_vs_long_lat.csv\", encoding='latin-1')"
   ]
  },
  {
   "cell_type": "code",
   "execution_count": 74,
   "id": "5700deda",
   "metadata": {},
   "outputs": [
    {
     "data": {
      "text/html": [
       "<div>\n",
       "<style scoped>\n",
       "    .dataframe tbody tr th:only-of-type {\n",
       "        vertical-align: middle;\n",
       "    }\n",
       "\n",
       "    .dataframe tbody tr th {\n",
       "        vertical-align: top;\n",
       "    }\n",
       "\n",
       "    .dataframe thead th {\n",
       "        text-align: right;\n",
       "    }\n",
       "</style>\n",
       "<table border=\"1\" class=\"dataframe\">\n",
       "  <thead>\n",
       "    <tr style=\"text-align: right;\">\n",
       "      <th></th>\n",
       "      <th>ï»¿country</th>\n",
       "      <th>latitude</th>\n",
       "      <th>longitude</th>\n",
       "      <th>name</th>\n",
       "    </tr>\n",
       "  </thead>\n",
       "  <tbody>\n",
       "    <tr>\n",
       "      <th>0</th>\n",
       "      <td>AD</td>\n",
       "      <td>42.546245</td>\n",
       "      <td>1.601554</td>\n",
       "      <td>Andorra</td>\n",
       "    </tr>\n",
       "    <tr>\n",
       "      <th>1</th>\n",
       "      <td>AE</td>\n",
       "      <td>23.424076</td>\n",
       "      <td>53.847818</td>\n",
       "      <td>United Arab Emirates</td>\n",
       "    </tr>\n",
       "    <tr>\n",
       "      <th>2</th>\n",
       "      <td>AF</td>\n",
       "      <td>33.939110</td>\n",
       "      <td>67.709953</td>\n",
       "      <td>Afghanistan</td>\n",
       "    </tr>\n",
       "    <tr>\n",
       "      <th>3</th>\n",
       "      <td>AG</td>\n",
       "      <td>17.060816</td>\n",
       "      <td>-61.796428</td>\n",
       "      <td>Antigua and Barbuda</td>\n",
       "    </tr>\n",
       "    <tr>\n",
       "      <th>4</th>\n",
       "      <td>AI</td>\n",
       "      <td>18.220554</td>\n",
       "      <td>-63.068615</td>\n",
       "      <td>Anguilla</td>\n",
       "    </tr>\n",
       "    <tr>\n",
       "      <th>...</th>\n",
       "      <td>...</td>\n",
       "      <td>...</td>\n",
       "      <td>...</td>\n",
       "      <td>...</td>\n",
       "    </tr>\n",
       "    <tr>\n",
       "      <th>240</th>\n",
       "      <td>YE</td>\n",
       "      <td>15.552727</td>\n",
       "      <td>48.516388</td>\n",
       "      <td>Yemen</td>\n",
       "    </tr>\n",
       "    <tr>\n",
       "      <th>241</th>\n",
       "      <td>YT</td>\n",
       "      <td>-12.827500</td>\n",
       "      <td>45.166244</td>\n",
       "      <td>Mayotte</td>\n",
       "    </tr>\n",
       "    <tr>\n",
       "      <th>242</th>\n",
       "      <td>ZA</td>\n",
       "      <td>-30.559482</td>\n",
       "      <td>22.937506</td>\n",
       "      <td>South Africa</td>\n",
       "    </tr>\n",
       "    <tr>\n",
       "      <th>243</th>\n",
       "      <td>ZM</td>\n",
       "      <td>-13.133897</td>\n",
       "      <td>27.849332</td>\n",
       "      <td>Zambia</td>\n",
       "    </tr>\n",
       "    <tr>\n",
       "      <th>244</th>\n",
       "      <td>ZW</td>\n",
       "      <td>-19.015438</td>\n",
       "      <td>29.154857</td>\n",
       "      <td>Zimbabwe</td>\n",
       "    </tr>\n",
       "  </tbody>\n",
       "</table>\n",
       "<p>245 rows × 4 columns</p>\n",
       "</div>"
      ],
      "text/plain": [
       "    ï»¿country   latitude  longitude                  name\n",
       "0           AD  42.546245   1.601554               Andorra\n",
       "1           AE  23.424076  53.847818  United Arab Emirates\n",
       "2           AF  33.939110  67.709953           Afghanistan\n",
       "3           AG  17.060816 -61.796428   Antigua and Barbuda\n",
       "4           AI  18.220554 -63.068615              Anguilla\n",
       "..         ...        ...        ...                   ...\n",
       "240         YE  15.552727  48.516388                 Yemen\n",
       "241         YT -12.827500  45.166244               Mayotte\n",
       "242         ZA -30.559482  22.937506          South Africa\n",
       "243         ZM -13.133897  27.849332                Zambia\n",
       "244         ZW -19.015438  29.154857              Zimbabwe\n",
       "\n",
       "[245 rows x 4 columns]"
      ]
     },
     "execution_count": 74,
     "metadata": {},
     "output_type": "execute_result"
    }
   ],
   "source": [
    "countries_with_long_lat"
   ]
  },
  {
   "cell_type": "code",
   "execution_count": 68,
   "id": "f8c63b50",
   "metadata": {},
   "outputs": [
    {
     "data": {
      "application/vnd.plotly.v1+json": {
       "config": {
        "plotlyServerURL": "https://plot.ly"
       },
       "data": [
        {
         "lat": [
          37.09024,
          20.593684
         ],
         "lon": [
          -95.712891,
          78.96288
         ],
         "marker": {
          "size": 5
         },
         "mode": "markers+lines",
         "type": "scattermapbox"
        }
       ],
       "layout": {
        "mapbox": {
         "center": {
          "lat": 15,
          "lon": 15
         },
         "style": "open-street-map",
         "zoom": 1
        },
        "margin": {
         "b": 0,
         "l": 0,
         "r": 0,
         "t": 0
        },
        "template": {
         "data": {
          "bar": [
           {
            "error_x": {
             "color": "#2a3f5f"
            },
            "error_y": {
             "color": "#2a3f5f"
            },
            "marker": {
             "line": {
              "color": "#E5ECF6",
              "width": 0.5
             },
             "pattern": {
              "fillmode": "overlay",
              "size": 10,
              "solidity": 0.2
             }
            },
            "type": "bar"
           }
          ],
          "barpolar": [
           {
            "marker": {
             "line": {
              "color": "#E5ECF6",
              "width": 0.5
             },
             "pattern": {
              "fillmode": "overlay",
              "size": 10,
              "solidity": 0.2
             }
            },
            "type": "barpolar"
           }
          ],
          "carpet": [
           {
            "aaxis": {
             "endlinecolor": "#2a3f5f",
             "gridcolor": "white",
             "linecolor": "white",
             "minorgridcolor": "white",
             "startlinecolor": "#2a3f5f"
            },
            "baxis": {
             "endlinecolor": "#2a3f5f",
             "gridcolor": "white",
             "linecolor": "white",
             "minorgridcolor": "white",
             "startlinecolor": "#2a3f5f"
            },
            "type": "carpet"
           }
          ],
          "choropleth": [
           {
            "colorbar": {
             "outlinewidth": 0,
             "ticks": ""
            },
            "type": "choropleth"
           }
          ],
          "contour": [
           {
            "colorbar": {
             "outlinewidth": 0,
             "ticks": ""
            },
            "colorscale": [
             [
              0,
              "#0d0887"
             ],
             [
              0.1111111111111111,
              "#46039f"
             ],
             [
              0.2222222222222222,
              "#7201a8"
             ],
             [
              0.3333333333333333,
              "#9c179e"
             ],
             [
              0.4444444444444444,
              "#bd3786"
             ],
             [
              0.5555555555555556,
              "#d8576b"
             ],
             [
              0.6666666666666666,
              "#ed7953"
             ],
             [
              0.7777777777777778,
              "#fb9f3a"
             ],
             [
              0.8888888888888888,
              "#fdca26"
             ],
             [
              1,
              "#f0f921"
             ]
            ],
            "type": "contour"
           }
          ],
          "contourcarpet": [
           {
            "colorbar": {
             "outlinewidth": 0,
             "ticks": ""
            },
            "type": "contourcarpet"
           }
          ],
          "heatmap": [
           {
            "colorbar": {
             "outlinewidth": 0,
             "ticks": ""
            },
            "colorscale": [
             [
              0,
              "#0d0887"
             ],
             [
              0.1111111111111111,
              "#46039f"
             ],
             [
              0.2222222222222222,
              "#7201a8"
             ],
             [
              0.3333333333333333,
              "#9c179e"
             ],
             [
              0.4444444444444444,
              "#bd3786"
             ],
             [
              0.5555555555555556,
              "#d8576b"
             ],
             [
              0.6666666666666666,
              "#ed7953"
             ],
             [
              0.7777777777777778,
              "#fb9f3a"
             ],
             [
              0.8888888888888888,
              "#fdca26"
             ],
             [
              1,
              "#f0f921"
             ]
            ],
            "type": "heatmap"
           }
          ],
          "heatmapgl": [
           {
            "colorbar": {
             "outlinewidth": 0,
             "ticks": ""
            },
            "colorscale": [
             [
              0,
              "#0d0887"
             ],
             [
              0.1111111111111111,
              "#46039f"
             ],
             [
              0.2222222222222222,
              "#7201a8"
             ],
             [
              0.3333333333333333,
              "#9c179e"
             ],
             [
              0.4444444444444444,
              "#bd3786"
             ],
             [
              0.5555555555555556,
              "#d8576b"
             ],
             [
              0.6666666666666666,
              "#ed7953"
             ],
             [
              0.7777777777777778,
              "#fb9f3a"
             ],
             [
              0.8888888888888888,
              "#fdca26"
             ],
             [
              1,
              "#f0f921"
             ]
            ],
            "type": "heatmapgl"
           }
          ],
          "histogram": [
           {
            "marker": {
             "pattern": {
              "fillmode": "overlay",
              "size": 10,
              "solidity": 0.2
             }
            },
            "type": "histogram"
           }
          ],
          "histogram2d": [
           {
            "colorbar": {
             "outlinewidth": 0,
             "ticks": ""
            },
            "colorscale": [
             [
              0,
              "#0d0887"
             ],
             [
              0.1111111111111111,
              "#46039f"
             ],
             [
              0.2222222222222222,
              "#7201a8"
             ],
             [
              0.3333333333333333,
              "#9c179e"
             ],
             [
              0.4444444444444444,
              "#bd3786"
             ],
             [
              0.5555555555555556,
              "#d8576b"
             ],
             [
              0.6666666666666666,
              "#ed7953"
             ],
             [
              0.7777777777777778,
              "#fb9f3a"
             ],
             [
              0.8888888888888888,
              "#fdca26"
             ],
             [
              1,
              "#f0f921"
             ]
            ],
            "type": "histogram2d"
           }
          ],
          "histogram2dcontour": [
           {
            "colorbar": {
             "outlinewidth": 0,
             "ticks": ""
            },
            "colorscale": [
             [
              0,
              "#0d0887"
             ],
             [
              0.1111111111111111,
              "#46039f"
             ],
             [
              0.2222222222222222,
              "#7201a8"
             ],
             [
              0.3333333333333333,
              "#9c179e"
             ],
             [
              0.4444444444444444,
              "#bd3786"
             ],
             [
              0.5555555555555556,
              "#d8576b"
             ],
             [
              0.6666666666666666,
              "#ed7953"
             ],
             [
              0.7777777777777778,
              "#fb9f3a"
             ],
             [
              0.8888888888888888,
              "#fdca26"
             ],
             [
              1,
              "#f0f921"
             ]
            ],
            "type": "histogram2dcontour"
           }
          ],
          "mesh3d": [
           {
            "colorbar": {
             "outlinewidth": 0,
             "ticks": ""
            },
            "type": "mesh3d"
           }
          ],
          "parcoords": [
           {
            "line": {
             "colorbar": {
              "outlinewidth": 0,
              "ticks": ""
             }
            },
            "type": "parcoords"
           }
          ],
          "pie": [
           {
            "automargin": true,
            "type": "pie"
           }
          ],
          "scatter": [
           {
            "fillpattern": {
             "fillmode": "overlay",
             "size": 10,
             "solidity": 0.2
            },
            "type": "scatter"
           }
          ],
          "scatter3d": [
           {
            "line": {
             "colorbar": {
              "outlinewidth": 0,
              "ticks": ""
             }
            },
            "marker": {
             "colorbar": {
              "outlinewidth": 0,
              "ticks": ""
             }
            },
            "type": "scatter3d"
           }
          ],
          "scattercarpet": [
           {
            "marker": {
             "colorbar": {
              "outlinewidth": 0,
              "ticks": ""
             }
            },
            "type": "scattercarpet"
           }
          ],
          "scattergeo": [
           {
            "marker": {
             "colorbar": {
              "outlinewidth": 0,
              "ticks": ""
             }
            },
            "type": "scattergeo"
           }
          ],
          "scattergl": [
           {
            "marker": {
             "colorbar": {
              "outlinewidth": 0,
              "ticks": ""
             }
            },
            "type": "scattergl"
           }
          ],
          "scattermapbox": [
           {
            "marker": {
             "colorbar": {
              "outlinewidth": 0,
              "ticks": ""
             }
            },
            "type": "scattermapbox"
           }
          ],
          "scatterpolar": [
           {
            "marker": {
             "colorbar": {
              "outlinewidth": 0,
              "ticks": ""
             }
            },
            "type": "scatterpolar"
           }
          ],
          "scatterpolargl": [
           {
            "marker": {
             "colorbar": {
              "outlinewidth": 0,
              "ticks": ""
             }
            },
            "type": "scatterpolargl"
           }
          ],
          "scatterternary": [
           {
            "marker": {
             "colorbar": {
              "outlinewidth": 0,
              "ticks": ""
             }
            },
            "type": "scatterternary"
           }
          ],
          "surface": [
           {
            "colorbar": {
             "outlinewidth": 0,
             "ticks": ""
            },
            "colorscale": [
             [
              0,
              "#0d0887"
             ],
             [
              0.1111111111111111,
              "#46039f"
             ],
             [
              0.2222222222222222,
              "#7201a8"
             ],
             [
              0.3333333333333333,
              "#9c179e"
             ],
             [
              0.4444444444444444,
              "#bd3786"
             ],
             [
              0.5555555555555556,
              "#d8576b"
             ],
             [
              0.6666666666666666,
              "#ed7953"
             ],
             [
              0.7777777777777778,
              "#fb9f3a"
             ],
             [
              0.8888888888888888,
              "#fdca26"
             ],
             [
              1,
              "#f0f921"
             ]
            ],
            "type": "surface"
           }
          ],
          "table": [
           {
            "cells": {
             "fill": {
              "color": "#EBF0F8"
             },
             "line": {
              "color": "white"
             }
            },
            "header": {
             "fill": {
              "color": "#C8D4E3"
             },
             "line": {
              "color": "white"
             }
            },
            "type": "table"
           }
          ]
         },
         "layout": {
          "annotationdefaults": {
           "arrowcolor": "#2a3f5f",
           "arrowhead": 0,
           "arrowwidth": 1
          },
          "autotypenumbers": "strict",
          "coloraxis": {
           "colorbar": {
            "outlinewidth": 0,
            "ticks": ""
           }
          },
          "colorscale": {
           "diverging": [
            [
             0,
             "#8e0152"
            ],
            [
             0.1,
             "#c51b7d"
            ],
            [
             0.2,
             "#de77ae"
            ],
            [
             0.3,
             "#f1b6da"
            ],
            [
             0.4,
             "#fde0ef"
            ],
            [
             0.5,
             "#f7f7f7"
            ],
            [
             0.6,
             "#e6f5d0"
            ],
            [
             0.7,
             "#b8e186"
            ],
            [
             0.8,
             "#7fbc41"
            ],
            [
             0.9,
             "#4d9221"
            ],
            [
             1,
             "#276419"
            ]
           ],
           "sequential": [
            [
             0,
             "#0d0887"
            ],
            [
             0.1111111111111111,
             "#46039f"
            ],
            [
             0.2222222222222222,
             "#7201a8"
            ],
            [
             0.3333333333333333,
             "#9c179e"
            ],
            [
             0.4444444444444444,
             "#bd3786"
            ],
            [
             0.5555555555555556,
             "#d8576b"
            ],
            [
             0.6666666666666666,
             "#ed7953"
            ],
            [
             0.7777777777777778,
             "#fb9f3a"
            ],
            [
             0.8888888888888888,
             "#fdca26"
            ],
            [
             1,
             "#f0f921"
            ]
           ],
           "sequentialminus": [
            [
             0,
             "#0d0887"
            ],
            [
             0.1111111111111111,
             "#46039f"
            ],
            [
             0.2222222222222222,
             "#7201a8"
            ],
            [
             0.3333333333333333,
             "#9c179e"
            ],
            [
             0.4444444444444444,
             "#bd3786"
            ],
            [
             0.5555555555555556,
             "#d8576b"
            ],
            [
             0.6666666666666666,
             "#ed7953"
            ],
            [
             0.7777777777777778,
             "#fb9f3a"
            ],
            [
             0.8888888888888888,
             "#fdca26"
            ],
            [
             1,
             "#f0f921"
            ]
           ]
          },
          "colorway": [
           "#636efa",
           "#EF553B",
           "#00cc96",
           "#ab63fa",
           "#FFA15A",
           "#19d3f3",
           "#FF6692",
           "#B6E880",
           "#FF97FF",
           "#FECB52"
          ],
          "font": {
           "color": "#2a3f5f"
          },
          "geo": {
           "bgcolor": "white",
           "lakecolor": "white",
           "landcolor": "#E5ECF6",
           "showlakes": true,
           "showland": true,
           "subunitcolor": "white"
          },
          "hoverlabel": {
           "align": "left"
          },
          "hovermode": "closest",
          "mapbox": {
           "style": "light"
          },
          "paper_bgcolor": "white",
          "plot_bgcolor": "#E5ECF6",
          "polar": {
           "angularaxis": {
            "gridcolor": "white",
            "linecolor": "white",
            "ticks": ""
           },
           "bgcolor": "#E5ECF6",
           "radialaxis": {
            "gridcolor": "white",
            "linecolor": "white",
            "ticks": ""
           }
          },
          "scene": {
           "xaxis": {
            "backgroundcolor": "#E5ECF6",
            "gridcolor": "white",
            "gridwidth": 2,
            "linecolor": "white",
            "showbackground": true,
            "ticks": "",
            "zerolinecolor": "white"
           },
           "yaxis": {
            "backgroundcolor": "#E5ECF6",
            "gridcolor": "white",
            "gridwidth": 2,
            "linecolor": "white",
            "showbackground": true,
            "ticks": "",
            "zerolinecolor": "white"
           },
           "zaxis": {
            "backgroundcolor": "#E5ECF6",
            "gridcolor": "white",
            "gridwidth": 2,
            "linecolor": "white",
            "showbackground": true,
            "ticks": "",
            "zerolinecolor": "white"
           }
          },
          "shapedefaults": {
           "line": {
            "color": "#2a3f5f"
           }
          },
          "ternary": {
           "aaxis": {
            "gridcolor": "white",
            "linecolor": "white",
            "ticks": ""
           },
           "baxis": {
            "gridcolor": "white",
            "linecolor": "white",
            "ticks": ""
           },
           "bgcolor": "#E5ECF6",
           "caxis": {
            "gridcolor": "white",
            "linecolor": "white",
            "ticks": ""
           }
          },
          "title": {
           "x": 0.05
          },
          "xaxis": {
           "automargin": true,
           "gridcolor": "white",
           "linecolor": "white",
           "ticks": "",
           "title": {
            "standoff": 15
           },
           "zerolinecolor": "white",
           "zerolinewidth": 2
          },
          "yaxis": {
           "automargin": true,
           "gridcolor": "white",
           "linecolor": "white",
           "ticks": "",
           "title": {
            "standoff": 15
           },
           "zerolinecolor": "white",
           "zerolinewidth": 2
          }
         }
        }
       }
      },
      "text/html": [
       "<div>                            <div id=\"76263a2a-9899-446d-a9b2-15bb24d07e09\" class=\"plotly-graph-div\" style=\"height:525px; width:100%;\"></div>            <script type=\"text/javascript\">                require([\"plotly\"], function(Plotly) {                    window.PLOTLYENV=window.PLOTLYENV || {};                                    if (document.getElementById(\"76263a2a-9899-446d-a9b2-15bb24d07e09\")) {                    Plotly.newPlot(                        \"76263a2a-9899-446d-a9b2-15bb24d07e09\",                        [{\"lat\":[37.09024,20.593684],\"lon\":[-95.712891,78.96288],\"marker\":{\"size\":5},\"mode\":\"markers+lines\",\"type\":\"scattermapbox\"}],                        {\"template\":{\"data\":{\"histogram2dcontour\":[{\"type\":\"histogram2dcontour\",\"colorbar\":{\"outlinewidth\":0,\"ticks\":\"\"},\"colorscale\":[[0.0,\"#0d0887\"],[0.1111111111111111,\"#46039f\"],[0.2222222222222222,\"#7201a8\"],[0.3333333333333333,\"#9c179e\"],[0.4444444444444444,\"#bd3786\"],[0.5555555555555556,\"#d8576b\"],[0.6666666666666666,\"#ed7953\"],[0.7777777777777778,\"#fb9f3a\"],[0.8888888888888888,\"#fdca26\"],[1.0,\"#f0f921\"]]}],\"choropleth\":[{\"type\":\"choropleth\",\"colorbar\":{\"outlinewidth\":0,\"ticks\":\"\"}}],\"histogram2d\":[{\"type\":\"histogram2d\",\"colorbar\":{\"outlinewidth\":0,\"ticks\":\"\"},\"colorscale\":[[0.0,\"#0d0887\"],[0.1111111111111111,\"#46039f\"],[0.2222222222222222,\"#7201a8\"],[0.3333333333333333,\"#9c179e\"],[0.4444444444444444,\"#bd3786\"],[0.5555555555555556,\"#d8576b\"],[0.6666666666666666,\"#ed7953\"],[0.7777777777777778,\"#fb9f3a\"],[0.8888888888888888,\"#fdca26\"],[1.0,\"#f0f921\"]]}],\"heatmap\":[{\"type\":\"heatmap\",\"colorbar\":{\"outlinewidth\":0,\"ticks\":\"\"},\"colorscale\":[[0.0,\"#0d0887\"],[0.1111111111111111,\"#46039f\"],[0.2222222222222222,\"#7201a8\"],[0.3333333333333333,\"#9c179e\"],[0.4444444444444444,\"#bd3786\"],[0.5555555555555556,\"#d8576b\"],[0.6666666666666666,\"#ed7953\"],[0.7777777777777778,\"#fb9f3a\"],[0.8888888888888888,\"#fdca26\"],[1.0,\"#f0f921\"]]}],\"heatmapgl\":[{\"type\":\"heatmapgl\",\"colorbar\":{\"outlinewidth\":0,\"ticks\":\"\"},\"colorscale\":[[0.0,\"#0d0887\"],[0.1111111111111111,\"#46039f\"],[0.2222222222222222,\"#7201a8\"],[0.3333333333333333,\"#9c179e\"],[0.4444444444444444,\"#bd3786\"],[0.5555555555555556,\"#d8576b\"],[0.6666666666666666,\"#ed7953\"],[0.7777777777777778,\"#fb9f3a\"],[0.8888888888888888,\"#fdca26\"],[1.0,\"#f0f921\"]]}],\"contourcarpet\":[{\"type\":\"contourcarpet\",\"colorbar\":{\"outlinewidth\":0,\"ticks\":\"\"}}],\"contour\":[{\"type\":\"contour\",\"colorbar\":{\"outlinewidth\":0,\"ticks\":\"\"},\"colorscale\":[[0.0,\"#0d0887\"],[0.1111111111111111,\"#46039f\"],[0.2222222222222222,\"#7201a8\"],[0.3333333333333333,\"#9c179e\"],[0.4444444444444444,\"#bd3786\"],[0.5555555555555556,\"#d8576b\"],[0.6666666666666666,\"#ed7953\"],[0.7777777777777778,\"#fb9f3a\"],[0.8888888888888888,\"#fdca26\"],[1.0,\"#f0f921\"]]}],\"surface\":[{\"type\":\"surface\",\"colorbar\":{\"outlinewidth\":0,\"ticks\":\"\"},\"colorscale\":[[0.0,\"#0d0887\"],[0.1111111111111111,\"#46039f\"],[0.2222222222222222,\"#7201a8\"],[0.3333333333333333,\"#9c179e\"],[0.4444444444444444,\"#bd3786\"],[0.5555555555555556,\"#d8576b\"],[0.6666666666666666,\"#ed7953\"],[0.7777777777777778,\"#fb9f3a\"],[0.8888888888888888,\"#fdca26\"],[1.0,\"#f0f921\"]]}],\"mesh3d\":[{\"type\":\"mesh3d\",\"colorbar\":{\"outlinewidth\":0,\"ticks\":\"\"}}],\"scatter\":[{\"fillpattern\":{\"fillmode\":\"overlay\",\"size\":10,\"solidity\":0.2},\"type\":\"scatter\"}],\"parcoords\":[{\"type\":\"parcoords\",\"line\":{\"colorbar\":{\"outlinewidth\":0,\"ticks\":\"\"}}}],\"scatterpolargl\":[{\"type\":\"scatterpolargl\",\"marker\":{\"colorbar\":{\"outlinewidth\":0,\"ticks\":\"\"}}}],\"bar\":[{\"error_x\":{\"color\":\"#2a3f5f\"},\"error_y\":{\"color\":\"#2a3f5f\"},\"marker\":{\"line\":{\"color\":\"#E5ECF6\",\"width\":0.5},\"pattern\":{\"fillmode\":\"overlay\",\"size\":10,\"solidity\":0.2}},\"type\":\"bar\"}],\"scattergeo\":[{\"type\":\"scattergeo\",\"marker\":{\"colorbar\":{\"outlinewidth\":0,\"ticks\":\"\"}}}],\"scatterpolar\":[{\"type\":\"scatterpolar\",\"marker\":{\"colorbar\":{\"outlinewidth\":0,\"ticks\":\"\"}}}],\"histogram\":[{\"marker\":{\"pattern\":{\"fillmode\":\"overlay\",\"size\":10,\"solidity\":0.2}},\"type\":\"histogram\"}],\"scattergl\":[{\"type\":\"scattergl\",\"marker\":{\"colorbar\":{\"outlinewidth\":0,\"ticks\":\"\"}}}],\"scatter3d\":[{\"type\":\"scatter3d\",\"line\":{\"colorbar\":{\"outlinewidth\":0,\"ticks\":\"\"}},\"marker\":{\"colorbar\":{\"outlinewidth\":0,\"ticks\":\"\"}}}],\"scattermapbox\":[{\"type\":\"scattermapbox\",\"marker\":{\"colorbar\":{\"outlinewidth\":0,\"ticks\":\"\"}}}],\"scatterternary\":[{\"type\":\"scatterternary\",\"marker\":{\"colorbar\":{\"outlinewidth\":0,\"ticks\":\"\"}}}],\"scattercarpet\":[{\"type\":\"scattercarpet\",\"marker\":{\"colorbar\":{\"outlinewidth\":0,\"ticks\":\"\"}}}],\"carpet\":[{\"aaxis\":{\"endlinecolor\":\"#2a3f5f\",\"gridcolor\":\"white\",\"linecolor\":\"white\",\"minorgridcolor\":\"white\",\"startlinecolor\":\"#2a3f5f\"},\"baxis\":{\"endlinecolor\":\"#2a3f5f\",\"gridcolor\":\"white\",\"linecolor\":\"white\",\"minorgridcolor\":\"white\",\"startlinecolor\":\"#2a3f5f\"},\"type\":\"carpet\"}],\"table\":[{\"cells\":{\"fill\":{\"color\":\"#EBF0F8\"},\"line\":{\"color\":\"white\"}},\"header\":{\"fill\":{\"color\":\"#C8D4E3\"},\"line\":{\"color\":\"white\"}},\"type\":\"table\"}],\"barpolar\":[{\"marker\":{\"line\":{\"color\":\"#E5ECF6\",\"width\":0.5},\"pattern\":{\"fillmode\":\"overlay\",\"size\":10,\"solidity\":0.2}},\"type\":\"barpolar\"}],\"pie\":[{\"automargin\":true,\"type\":\"pie\"}]},\"layout\":{\"autotypenumbers\":\"strict\",\"colorway\":[\"#636efa\",\"#EF553B\",\"#00cc96\",\"#ab63fa\",\"#FFA15A\",\"#19d3f3\",\"#FF6692\",\"#B6E880\",\"#FF97FF\",\"#FECB52\"],\"font\":{\"color\":\"#2a3f5f\"},\"hovermode\":\"closest\",\"hoverlabel\":{\"align\":\"left\"},\"paper_bgcolor\":\"white\",\"plot_bgcolor\":\"#E5ECF6\",\"polar\":{\"bgcolor\":\"#E5ECF6\",\"angularaxis\":{\"gridcolor\":\"white\",\"linecolor\":\"white\",\"ticks\":\"\"},\"radialaxis\":{\"gridcolor\":\"white\",\"linecolor\":\"white\",\"ticks\":\"\"}},\"ternary\":{\"bgcolor\":\"#E5ECF6\",\"aaxis\":{\"gridcolor\":\"white\",\"linecolor\":\"white\",\"ticks\":\"\"},\"baxis\":{\"gridcolor\":\"white\",\"linecolor\":\"white\",\"ticks\":\"\"},\"caxis\":{\"gridcolor\":\"white\",\"linecolor\":\"white\",\"ticks\":\"\"}},\"coloraxis\":{\"colorbar\":{\"outlinewidth\":0,\"ticks\":\"\"}},\"colorscale\":{\"sequential\":[[0.0,\"#0d0887\"],[0.1111111111111111,\"#46039f\"],[0.2222222222222222,\"#7201a8\"],[0.3333333333333333,\"#9c179e\"],[0.4444444444444444,\"#bd3786\"],[0.5555555555555556,\"#d8576b\"],[0.6666666666666666,\"#ed7953\"],[0.7777777777777778,\"#fb9f3a\"],[0.8888888888888888,\"#fdca26\"],[1.0,\"#f0f921\"]],\"sequentialminus\":[[0.0,\"#0d0887\"],[0.1111111111111111,\"#46039f\"],[0.2222222222222222,\"#7201a8\"],[0.3333333333333333,\"#9c179e\"],[0.4444444444444444,\"#bd3786\"],[0.5555555555555556,\"#d8576b\"],[0.6666666666666666,\"#ed7953\"],[0.7777777777777778,\"#fb9f3a\"],[0.8888888888888888,\"#fdca26\"],[1.0,\"#f0f921\"]],\"diverging\":[[0,\"#8e0152\"],[0.1,\"#c51b7d\"],[0.2,\"#de77ae\"],[0.3,\"#f1b6da\"],[0.4,\"#fde0ef\"],[0.5,\"#f7f7f7\"],[0.6,\"#e6f5d0\"],[0.7,\"#b8e186\"],[0.8,\"#7fbc41\"],[0.9,\"#4d9221\"],[1,\"#276419\"]]},\"xaxis\":{\"gridcolor\":\"white\",\"linecolor\":\"white\",\"ticks\":\"\",\"title\":{\"standoff\":15},\"zerolinecolor\":\"white\",\"automargin\":true,\"zerolinewidth\":2},\"yaxis\":{\"gridcolor\":\"white\",\"linecolor\":\"white\",\"ticks\":\"\",\"title\":{\"standoff\":15},\"zerolinecolor\":\"white\",\"automargin\":true,\"zerolinewidth\":2},\"scene\":{\"xaxis\":{\"backgroundcolor\":\"#E5ECF6\",\"gridcolor\":\"white\",\"linecolor\":\"white\",\"showbackground\":true,\"ticks\":\"\",\"zerolinecolor\":\"white\",\"gridwidth\":2},\"yaxis\":{\"backgroundcolor\":\"#E5ECF6\",\"gridcolor\":\"white\",\"linecolor\":\"white\",\"showbackground\":true,\"ticks\":\"\",\"zerolinecolor\":\"white\",\"gridwidth\":2},\"zaxis\":{\"backgroundcolor\":\"#E5ECF6\",\"gridcolor\":\"white\",\"linecolor\":\"white\",\"showbackground\":true,\"ticks\":\"\",\"zerolinecolor\":\"white\",\"gridwidth\":2}},\"shapedefaults\":{\"line\":{\"color\":\"#2a3f5f\"}},\"annotationdefaults\":{\"arrowcolor\":\"#2a3f5f\",\"arrowhead\":0,\"arrowwidth\":1},\"geo\":{\"bgcolor\":\"white\",\"landcolor\":\"#E5ECF6\",\"subunitcolor\":\"white\",\"showland\":true,\"showlakes\":true,\"lakecolor\":\"white\"},\"title\":{\"x\":0.05},\"mapbox\":{\"style\":\"light\"}}},\"margin\":{\"l\":0,\"t\":0,\"b\":0,\"r\":0},\"mapbox\":{\"center\":{\"lon\":15,\"lat\":15},\"style\":\"open-street-map\",\"zoom\":1}},                        {\"responsive\": true}                    ).then(function(){\n",
       "                            \n",
       "var gd = document.getElementById('76263a2a-9899-446d-a9b2-15bb24d07e09');\n",
       "var x = new MutationObserver(function (mutations, observer) {{\n",
       "        var display = window.getComputedStyle(gd).display;\n",
       "        if (!display || display === 'none') {{\n",
       "            console.log([gd, 'removed!']);\n",
       "            Plotly.purge(gd);\n",
       "            observer.disconnect();\n",
       "        }}\n",
       "}});\n",
       "\n",
       "// Listen for the removal of the full notebook cells\n",
       "var notebookContainer = gd.closest('#notebook-container');\n",
       "if (notebookContainer) {{\n",
       "    x.observe(notebookContainer, {childList: true});\n",
       "}}\n",
       "\n",
       "// Listen for the clearing of the current output cell\n",
       "var outputEl = gd.closest('.output');\n",
       "if (outputEl) {{\n",
       "    x.observe(outputEl, {childList: true});\n",
       "}}\n",
       "\n",
       "                        })                };                });            </script>        </div>"
      ]
     },
     "metadata": {},
     "output_type": "display_data"
    }
   ],
   "source": [
    "import plotly.graph_objects as go\n",
    "\n",
    "fig = go.Figure(go.Scattermapbox(\n",
    "    mode = \"markers+lines\",\n",
    "    lat = [37.09024, 20.593684],\n",
    "    lon = [-95.712891, 78.96288],\n",
    "    marker = {'size': 5}))\n",
    "\n",
    "fig.update_layout(\n",
    "    margin ={'l':0,'t':0,'b':0,'r':0},\n",
    "    mapbox = {\n",
    "        'center': {'lon': 10, 'lat': 10},\n",
    "        'style': \"open-street-map\",\n",
    "        'center': {'lon': 15, 'lat': 15},\n",
    "        'zoom': 1})\n",
    "\n",
    "fig.show()"
   ]
  },
  {
   "cell_type": "code",
   "execution_count": 66,
   "id": "f3fe06e3",
   "metadata": {},
   "outputs": [
    {
     "ename": "ModuleNotFoundError",
     "evalue": "No module named 'geopandas'",
     "output_type": "error",
     "traceback": [
      "\u001b[1;31m---------------------------------------------------------------------------\u001b[0m",
      "\u001b[1;31mModuleNotFoundError\u001b[0m                       Traceback (most recent call last)",
      "Cell \u001b[1;32mIn [66], line 1\u001b[0m\n\u001b[1;32m----> 1\u001b[0m \u001b[38;5;28;01mimport\u001b[39;00m \u001b[38;5;21;01mgeopandas\u001b[39;00m \u001b[38;5;28;01mas\u001b[39;00m \u001b[38;5;21;01mgpd\u001b[39;00m\n",
      "\u001b[1;31mModuleNotFoundError\u001b[0m: No module named 'geopandas'"
     ]
    }
   ],
   "source": [
    "import geopandas as gpd"
   ]
  },
  {
   "cell_type": "code",
   "execution_count": null,
   "id": "617c1a12",
   "metadata": {},
   "outputs": [],
   "source": []
  },
  {
   "cell_type": "code",
   "execution_count": null,
   "id": "7afc216b",
   "metadata": {},
   "outputs": [],
   "source": []
  },
  {
   "cell_type": "code",
   "execution_count": null,
   "id": "8309d092",
   "metadata": {},
   "outputs": [],
   "source": []
  },
  {
   "cell_type": "code",
   "execution_count": null,
   "id": "59acc55f",
   "metadata": {},
   "outputs": [],
   "source": []
  }
 ],
 "metadata": {
  "kernelspec": {
   "display_name": "Python 3 (ipykernel)",
   "language": "python",
   "name": "python3"
  },
  "language_info": {
   "codemirror_mode": {
    "name": "ipython",
    "version": 3
   },
   "file_extension": ".py",
   "mimetype": "text/x-python",
   "name": "python",
   "nbconvert_exporter": "python",
   "pygments_lexer": "ipython3",
   "version": "3.8.15"
  }
 },
 "nbformat": 4,
 "nbformat_minor": 5
}
